{
  "nbformat": 4,
  "nbformat_minor": 0,
  "metadata": {
    "colab": {
      "name": "Social Network Analysis Project.ipynb",
      "version": "0.3.2",
      "provenance": [],
      "collapsed_sections": []
    },
    "kernelspec": {
      "name": "python3",
      "display_name": "Python 3"
    },
    "accelerator": "GPU"
  },
  "cells": [
    {
      "metadata": {
        "id": "J483K_QFDjTb",
        "colab_type": "text"
      },
      "cell_type": "markdown",
      "source": [
        "## Link Prediction in Dynamic Graphs for recommendation"
      ]
    },
    {
      "metadata": {
        "id": "y7Ep8KarDjTd",
        "colab_type": "text"
      },
      "cell_type": "markdown",
      "source": [
        "***"
      ]
    },
    {
      "metadata": {
        "id": "ZAI1kzFXDjTe",
        "colab_type": "text"
      },
      "cell_type": "markdown",
      "source": [
        "Abstract: In this project we'll study the prediction of the future links in dynamic Graphs and\n",
        "          implementing the data set using the algorithms and techniques of social network analysis (SNA)\n",
        "\n",
        "Keywords :Social Network Analysis, Link Prediction,Dynamic Graphs , Recommendation,Neural Network"
      ]
    },
    {
      "metadata": {
        "id": "k6KFU2htDjTf",
        "colab_type": "text"
      },
      "cell_type": "markdown",
      "source": [
        "\"Prediction is very difficult, especially if it's about the future.\"\n",
        "                    \n",
        "                       — Niels Bohr, Nobel laureate in Physics"
      ]
    },
    {
      "metadata": {
        "id": "exc597qaDjTh",
        "colab_type": "text"
      },
      "cell_type": "markdown",
      "source": [
        "###  Demarche :\n",
        "- Introduction\n",
        "- Description\n",
        "- Cleaning Data\n",
        "- Preparing Data\n",
        "- Network Visualization\n",
        "- Prediction\n",
        "- Conlusion"
      ]
    },
    {
      "metadata": {
        "id": "nPgGmxj-DjTi",
        "colab_type": "text"
      },
      "cell_type": "markdown",
      "source": [
        "##  Introduction"
      ]
    },
    {
      "metadata": {
        "id": "O9KgLE8uDjTj",
        "colab_type": "text"
      },
      "cell_type": "markdown",
      "source": [
        "The Link prediction is an important task for analyzing social network which also has applications in other domains like retrieval, information, bioinformatics, and e-commerce.\n",
        "Link prediction problem is studied in the supervised learning framework by treating it as an instance of binary classification These methods use the topological and semantic measures defined between nodes as features for learning classifiers\n",
        "\n",
        "The methods of link prediction assign a connection weight score(x,y) to pairs of nodes x and y, based on the input graph $G_{collab}$, and then produce a ranked list in decreasing order of score(x,y). \n",
        "\n",
        "One common approach to this problem is collaborative ﬁltering , where the collective ratings users give to items are used to predict unseen ratings. This is commonly represented as an undirected bipartite graph, where observed ratings are weighted edges linking one user to one item, with the weight representing the rating value. Following recent advances on recommender systems using neural networks and inspired by collaborative ﬁltering\n"
      ]
    },
    {
      "metadata": {
        "id": "9VjfzaF6DjTl",
        "colab_type": "text"
      },
      "cell_type": "markdown",
      "source": [
        "##  Description"
      ]
    },
    {
      "metadata": {
        "id": "z-FT72svDjTm",
        "colab_type": "text"
      },
      "cell_type": "markdown",
      "source": [
        "We are going to study on a Data set of MovieLens \n",
        "\n",
        "This Data set consists of :\n",
        "\n",
        "943 users,\n",
        "1682 items\n",
        "100 000 ratings.\n",
        "\n",
        "The MovieLens Data Files:\n",
        "\n",
        "- u.data : The full u data set, 100000 ratings by 943 users on 1682 items.Each user has rated at least 20 movies. \n",
        "\n",
        "- u.info : The number of users, items, and ratings in the u data set.\n",
        "\n",
        "- u.item : Information about the items (movies)\n",
        "\n",
        "- u.genre : A list of the genres.\n",
        "\n",
        "- u.user  : Demographic information about the users\n",
        "\n",
        "- u.occupation : A list of the occupations.\n",
        "\n",
        "- u1.base,u1.test : The data sets u1.base and u1.test through u5.base and u5.test are 80%/20% splits of the u data into training  and test data.These data sets can be generated from u.data by mku.sh.\n",
        "                  \n",
        "- ua.base,ua.test,ub.base,ub.test : The data sets ua.base, ua.test, ub.base, and ub.test split the u data into a training set and a test set with exactly 10 ratings per user in the test set.\n",
        "\n",
        "- allbut.pl : The script that generates training and test sets where all but n of a users ratings are in the training data.\n",
        "\n",
        "- mku.sh : A shell script to generate all the u data sets from u.data.\n",
        "\n",
        "\n",
        " Firstly, we must to cleaning it and preparing its Data using the algorithms of Social Network Analysis,also extraction the pertinent parameters and finally predict the existence of link between the nodes of users and the nodes of items and the number of ratings that each user can give each movie  "
      ]
    },
    {
      "metadata": {
        "id": "u6MxRtfzDjTo",
        "colab_type": "text"
      },
      "cell_type": "markdown",
      "source": [
        "## Cleaning Data"
      ]
    },
    {
      "metadata": {
        "id": "SbxcFEiEDjTq",
        "colab_type": "code",
        "outputId": "7e0966ee-23b4-4842-cd95-53e10fd19780",
        "colab": {
          "base_uri": "https://localhost:8080/",
          "height": 34
        }
      },
      "cell_type": "code",
      "source": [
        "import pandas as pd\n",
        "import os\n",
        "#from google.colab import drive\n",
        "#drive.mount('/content/gdrive')\n",
        "#from google.colab import files\n",
        "\n",
        "! git clone https://github.com/eddiae/Movielens-Dataset.git\n",
        "\n",
        "#os.chdir('/content/gdrive/My Drive/Colab Notebooks/ML-100k/Unzipped Files/ml-100k')\n",
        "\n",
        "#os.chdir('/home/marmar/Documents/SNA-Link-Prediction-Project/ml-100k')"
      ],
      "execution_count": 79,
      "outputs": [
        {
          "output_type": "stream",
          "text": [
            "fatal: destination path 'Movielens-Dataset' already exists and is not an empty directory.\n"
          ],
          "name": "stdout"
        }
      ]
    },
    {
      "metadata": {
        "id": "uAiEQ517DjTu",
        "colab_type": "text"
      },
      "cell_type": "markdown",
      "source": [
        "Our first task is transforming the required data and make it comform and structured for use in our link prediction task. "
      ]
    },
    {
      "metadata": {
        "id": "WoNiqKJ2DjTv",
        "colab_type": "text"
      },
      "cell_type": "markdown",
      "source": [
        "Lets clean the data by removing the NAN columns "
      ]
    },
    {
      "metadata": {
        "id": "m76_-aMEDjTx",
        "colab_type": "code",
        "outputId": "3a471c45-783b-418d-8c23-ced7eaf657c2",
        "colab": {
          "base_uri": "https://localhost:8080/",
          "height": 810
        }
      },
      "cell_type": "code",
      "source": [
        "with open('u.item', encoding = \"ISO-8859-1\") as content:\n",
        "    mCols = ['movie_id', 'movie_title', 'release_date', 'video_release_date', 'imdb_url']\n",
        "    genres = ['unknown', 'action', 'adventure', 'animation', 'children', 'comedy', 'crime', 'documentary', 'drama', 'fantasy', \n",
        "          'film-noir',  'horror', 'musical', 'mystery', 'romance', 'sci-fi', 'thriller', 'war', 'western']\n",
        "    mColsG = mCols + genres\n",
        "    movies_info = pd.DataFrame(columns=mColsG)\n",
        "    i = 0\n",
        "    for x in content:\n",
        "        x = x.split(\"|\")\n",
        "        x[-1] = x[-1][:-1]\n",
        "        if x[1][-1] == ' ':\n",
        "            x[1] = x[1][:-1]\n",
        "        movies_info.loc[i] = [word if word!='' else \"empty\" for word in x]\n",
        "        i = i + 1\n",
        "movies_info['movie_id'] = movies_info['movie_id'].astype('int64')\n",
        "movies_info[genres] = movies_info[genres].astype('int64')\n",
        "movies_info.head(5).transpose()"
      ],
      "execution_count": 80,
      "outputs": [
        {
          "output_type": "execute_result",
          "data": {
            "text/html": [
              "<div>\n",
              "<style scoped>\n",
              "    .dataframe tbody tr th:only-of-type {\n",
              "        vertical-align: middle;\n",
              "    }\n",
              "\n",
              "    .dataframe tbody tr th {\n",
              "        vertical-align: top;\n",
              "    }\n",
              "\n",
              "    .dataframe thead th {\n",
              "        text-align: right;\n",
              "    }\n",
              "</style>\n",
              "<table border=\"1\" class=\"dataframe\">\n",
              "  <thead>\n",
              "    <tr style=\"text-align: right;\">\n",
              "      <th></th>\n",
              "      <th>0</th>\n",
              "      <th>1</th>\n",
              "      <th>2</th>\n",
              "      <th>3</th>\n",
              "      <th>4</th>\n",
              "    </tr>\n",
              "  </thead>\n",
              "  <tbody>\n",
              "    <tr>\n",
              "      <th>movie_id</th>\n",
              "      <td>1</td>\n",
              "      <td>2</td>\n",
              "      <td>3</td>\n",
              "      <td>4</td>\n",
              "      <td>5</td>\n",
              "    </tr>\n",
              "    <tr>\n",
              "      <th>movie_title</th>\n",
              "      <td>Toy Story (1995)</td>\n",
              "      <td>GoldenEye (1995)</td>\n",
              "      <td>Four Rooms (1995)</td>\n",
              "      <td>Get Shorty (1995)</td>\n",
              "      <td>Copycat (1995)</td>\n",
              "    </tr>\n",
              "    <tr>\n",
              "      <th>release_date</th>\n",
              "      <td>01-Jan-1995</td>\n",
              "      <td>01-Jan-1995</td>\n",
              "      <td>01-Jan-1995</td>\n",
              "      <td>01-Jan-1995</td>\n",
              "      <td>01-Jan-1995</td>\n",
              "    </tr>\n",
              "    <tr>\n",
              "      <th>video_release_date</th>\n",
              "      <td>empty</td>\n",
              "      <td>empty</td>\n",
              "      <td>empty</td>\n",
              "      <td>empty</td>\n",
              "      <td>empty</td>\n",
              "    </tr>\n",
              "    <tr>\n",
              "      <th>imdb_url</th>\n",
              "      <td>http://us.imdb.com/M/title-exact?Toy%20Story%2...</td>\n",
              "      <td>http://us.imdb.com/M/title-exact?GoldenEye%20(...</td>\n",
              "      <td>http://us.imdb.com/M/title-exact?Four%20Rooms%...</td>\n",
              "      <td>http://us.imdb.com/M/title-exact?Get%20Shorty%...</td>\n",
              "      <td>http://us.imdb.com/M/title-exact?Copycat%20(1995)</td>\n",
              "    </tr>\n",
              "    <tr>\n",
              "      <th>unknown</th>\n",
              "      <td>0</td>\n",
              "      <td>0</td>\n",
              "      <td>0</td>\n",
              "      <td>0</td>\n",
              "      <td>0</td>\n",
              "    </tr>\n",
              "    <tr>\n",
              "      <th>action</th>\n",
              "      <td>0</td>\n",
              "      <td>1</td>\n",
              "      <td>0</td>\n",
              "      <td>1</td>\n",
              "      <td>0</td>\n",
              "    </tr>\n",
              "    <tr>\n",
              "      <th>adventure</th>\n",
              "      <td>0</td>\n",
              "      <td>1</td>\n",
              "      <td>0</td>\n",
              "      <td>0</td>\n",
              "      <td>0</td>\n",
              "    </tr>\n",
              "    <tr>\n",
              "      <th>animation</th>\n",
              "      <td>1</td>\n",
              "      <td>0</td>\n",
              "      <td>0</td>\n",
              "      <td>0</td>\n",
              "      <td>0</td>\n",
              "    </tr>\n",
              "    <tr>\n",
              "      <th>children</th>\n",
              "      <td>1</td>\n",
              "      <td>0</td>\n",
              "      <td>0</td>\n",
              "      <td>0</td>\n",
              "      <td>0</td>\n",
              "    </tr>\n",
              "    <tr>\n",
              "      <th>comedy</th>\n",
              "      <td>1</td>\n",
              "      <td>0</td>\n",
              "      <td>0</td>\n",
              "      <td>1</td>\n",
              "      <td>0</td>\n",
              "    </tr>\n",
              "    <tr>\n",
              "      <th>crime</th>\n",
              "      <td>0</td>\n",
              "      <td>0</td>\n",
              "      <td>0</td>\n",
              "      <td>0</td>\n",
              "      <td>1</td>\n",
              "    </tr>\n",
              "    <tr>\n",
              "      <th>documentary</th>\n",
              "      <td>0</td>\n",
              "      <td>0</td>\n",
              "      <td>0</td>\n",
              "      <td>0</td>\n",
              "      <td>0</td>\n",
              "    </tr>\n",
              "    <tr>\n",
              "      <th>drama</th>\n",
              "      <td>0</td>\n",
              "      <td>0</td>\n",
              "      <td>0</td>\n",
              "      <td>1</td>\n",
              "      <td>1</td>\n",
              "    </tr>\n",
              "    <tr>\n",
              "      <th>fantasy</th>\n",
              "      <td>0</td>\n",
              "      <td>0</td>\n",
              "      <td>0</td>\n",
              "      <td>0</td>\n",
              "      <td>0</td>\n",
              "    </tr>\n",
              "    <tr>\n",
              "      <th>film-noir</th>\n",
              "      <td>0</td>\n",
              "      <td>0</td>\n",
              "      <td>0</td>\n",
              "      <td>0</td>\n",
              "      <td>0</td>\n",
              "    </tr>\n",
              "    <tr>\n",
              "      <th>horror</th>\n",
              "      <td>0</td>\n",
              "      <td>0</td>\n",
              "      <td>0</td>\n",
              "      <td>0</td>\n",
              "      <td>0</td>\n",
              "    </tr>\n",
              "    <tr>\n",
              "      <th>musical</th>\n",
              "      <td>0</td>\n",
              "      <td>0</td>\n",
              "      <td>0</td>\n",
              "      <td>0</td>\n",
              "      <td>0</td>\n",
              "    </tr>\n",
              "    <tr>\n",
              "      <th>mystery</th>\n",
              "      <td>0</td>\n",
              "      <td>0</td>\n",
              "      <td>0</td>\n",
              "      <td>0</td>\n",
              "      <td>0</td>\n",
              "    </tr>\n",
              "    <tr>\n",
              "      <th>romance</th>\n",
              "      <td>0</td>\n",
              "      <td>0</td>\n",
              "      <td>0</td>\n",
              "      <td>0</td>\n",
              "      <td>0</td>\n",
              "    </tr>\n",
              "    <tr>\n",
              "      <th>sci-fi</th>\n",
              "      <td>0</td>\n",
              "      <td>0</td>\n",
              "      <td>0</td>\n",
              "      <td>0</td>\n",
              "      <td>0</td>\n",
              "    </tr>\n",
              "    <tr>\n",
              "      <th>thriller</th>\n",
              "      <td>0</td>\n",
              "      <td>1</td>\n",
              "      <td>1</td>\n",
              "      <td>0</td>\n",
              "      <td>1</td>\n",
              "    </tr>\n",
              "    <tr>\n",
              "      <th>war</th>\n",
              "      <td>0</td>\n",
              "      <td>0</td>\n",
              "      <td>0</td>\n",
              "      <td>0</td>\n",
              "      <td>0</td>\n",
              "    </tr>\n",
              "    <tr>\n",
              "      <th>western</th>\n",
              "      <td>0</td>\n",
              "      <td>0</td>\n",
              "      <td>0</td>\n",
              "      <td>0</td>\n",
              "      <td>0</td>\n",
              "    </tr>\n",
              "  </tbody>\n",
              "</table>\n",
              "</div>"
            ],
            "text/plain": [
              "                                                                    0  \\\n",
              "movie_id                                                            1   \n",
              "movie_title                                          Toy Story (1995)   \n",
              "release_date                                              01-Jan-1995   \n",
              "video_release_date                                              empty   \n",
              "imdb_url            http://us.imdb.com/M/title-exact?Toy%20Story%2...   \n",
              "unknown                                                             0   \n",
              "action                                                              0   \n",
              "adventure                                                           0   \n",
              "animation                                                           1   \n",
              "children                                                            1   \n",
              "comedy                                                              1   \n",
              "crime                                                               0   \n",
              "documentary                                                         0   \n",
              "drama                                                               0   \n",
              "fantasy                                                             0   \n",
              "film-noir                                                           0   \n",
              "horror                                                              0   \n",
              "musical                                                             0   \n",
              "mystery                                                             0   \n",
              "romance                                                             0   \n",
              "sci-fi                                                              0   \n",
              "thriller                                                            0   \n",
              "war                                                                 0   \n",
              "western                                                             0   \n",
              "\n",
              "                                                                    1  \\\n",
              "movie_id                                                            2   \n",
              "movie_title                                          GoldenEye (1995)   \n",
              "release_date                                              01-Jan-1995   \n",
              "video_release_date                                              empty   \n",
              "imdb_url            http://us.imdb.com/M/title-exact?GoldenEye%20(...   \n",
              "unknown                                                             0   \n",
              "action                                                              1   \n",
              "adventure                                                           1   \n",
              "animation                                                           0   \n",
              "children                                                            0   \n",
              "comedy                                                              0   \n",
              "crime                                                               0   \n",
              "documentary                                                         0   \n",
              "drama                                                               0   \n",
              "fantasy                                                             0   \n",
              "film-noir                                                           0   \n",
              "horror                                                              0   \n",
              "musical                                                             0   \n",
              "mystery                                                             0   \n",
              "romance                                                             0   \n",
              "sci-fi                                                              0   \n",
              "thriller                                                            1   \n",
              "war                                                                 0   \n",
              "western                                                             0   \n",
              "\n",
              "                                                                    2  \\\n",
              "movie_id                                                            3   \n",
              "movie_title                                         Four Rooms (1995)   \n",
              "release_date                                              01-Jan-1995   \n",
              "video_release_date                                              empty   \n",
              "imdb_url            http://us.imdb.com/M/title-exact?Four%20Rooms%...   \n",
              "unknown                                                             0   \n",
              "action                                                              0   \n",
              "adventure                                                           0   \n",
              "animation                                                           0   \n",
              "children                                                            0   \n",
              "comedy                                                              0   \n",
              "crime                                                               0   \n",
              "documentary                                                         0   \n",
              "drama                                                               0   \n",
              "fantasy                                                             0   \n",
              "film-noir                                                           0   \n",
              "horror                                                              0   \n",
              "musical                                                             0   \n",
              "mystery                                                             0   \n",
              "romance                                                             0   \n",
              "sci-fi                                                              0   \n",
              "thriller                                                            1   \n",
              "war                                                                 0   \n",
              "western                                                             0   \n",
              "\n",
              "                                                                    3  \\\n",
              "movie_id                                                            4   \n",
              "movie_title                                         Get Shorty (1995)   \n",
              "release_date                                              01-Jan-1995   \n",
              "video_release_date                                              empty   \n",
              "imdb_url            http://us.imdb.com/M/title-exact?Get%20Shorty%...   \n",
              "unknown                                                             0   \n",
              "action                                                              1   \n",
              "adventure                                                           0   \n",
              "animation                                                           0   \n",
              "children                                                            0   \n",
              "comedy                                                              1   \n",
              "crime                                                               0   \n",
              "documentary                                                         0   \n",
              "drama                                                               1   \n",
              "fantasy                                                             0   \n",
              "film-noir                                                           0   \n",
              "horror                                                              0   \n",
              "musical                                                             0   \n",
              "mystery                                                             0   \n",
              "romance                                                             0   \n",
              "sci-fi                                                              0   \n",
              "thriller                                                            0   \n",
              "war                                                                 0   \n",
              "western                                                             0   \n",
              "\n",
              "                                                                    4  \n",
              "movie_id                                                            5  \n",
              "movie_title                                            Copycat (1995)  \n",
              "release_date                                              01-Jan-1995  \n",
              "video_release_date                                              empty  \n",
              "imdb_url            http://us.imdb.com/M/title-exact?Copycat%20(1995)  \n",
              "unknown                                                             0  \n",
              "action                                                              0  \n",
              "adventure                                                           0  \n",
              "animation                                                           0  \n",
              "children                                                            0  \n",
              "comedy                                                              0  \n",
              "crime                                                               1  \n",
              "documentary                                                         0  \n",
              "drama                                                               1  \n",
              "fantasy                                                             0  \n",
              "film-noir                                                           0  \n",
              "horror                                                              0  \n",
              "musical                                                             0  \n",
              "mystery                                                             0  \n",
              "romance                                                             0  \n",
              "sci-fi                                                              0  \n",
              "thriller                                                            1  \n",
              "war                                                                 0  \n",
              "western                                                             0  "
            ]
          },
          "metadata": {
            "tags": []
          },
          "execution_count": 80
        }
      ]
    },
    {
      "metadata": {
        "id": "mxlDVIiJDjT3",
        "colab_type": "text"
      },
      "cell_type": "markdown",
      "source": [
        "We can remark that the NAN values are on the column  'video_release_date' , we will drop this column "
      ]
    },
    {
      "metadata": {
        "id": "Tb3YLYKcDjT4",
        "colab_type": "code",
        "colab": {}
      },
      "cell_type": "code",
      "source": [
        "if 'video_release_date' in movies_info.columns:\n",
        "    movies_info = movies_info.drop('video_release_date', axis=1)"
      ],
      "execution_count": 0,
      "outputs": []
    },
    {
      "metadata": {
        "id": "LGwCnVpiDjT8",
        "colab_type": "code",
        "outputId": "8bafeadc-0a35-48a4-b130-37bd2a3f311c",
        "colab": {
          "base_uri": "https://localhost:8080/",
          "height": 779
        }
      },
      "cell_type": "code",
      "source": [
        "movies_info.head(5).transpose()"
      ],
      "execution_count": 82,
      "outputs": [
        {
          "output_type": "execute_result",
          "data": {
            "text/html": [
              "<div>\n",
              "<style scoped>\n",
              "    .dataframe tbody tr th:only-of-type {\n",
              "        vertical-align: middle;\n",
              "    }\n",
              "\n",
              "    .dataframe tbody tr th {\n",
              "        vertical-align: top;\n",
              "    }\n",
              "\n",
              "    .dataframe thead th {\n",
              "        text-align: right;\n",
              "    }\n",
              "</style>\n",
              "<table border=\"1\" class=\"dataframe\">\n",
              "  <thead>\n",
              "    <tr style=\"text-align: right;\">\n",
              "      <th></th>\n",
              "      <th>0</th>\n",
              "      <th>1</th>\n",
              "      <th>2</th>\n",
              "      <th>3</th>\n",
              "      <th>4</th>\n",
              "    </tr>\n",
              "  </thead>\n",
              "  <tbody>\n",
              "    <tr>\n",
              "      <th>movie_id</th>\n",
              "      <td>1</td>\n",
              "      <td>2</td>\n",
              "      <td>3</td>\n",
              "      <td>4</td>\n",
              "      <td>5</td>\n",
              "    </tr>\n",
              "    <tr>\n",
              "      <th>movie_title</th>\n",
              "      <td>Toy Story (1995)</td>\n",
              "      <td>GoldenEye (1995)</td>\n",
              "      <td>Four Rooms (1995)</td>\n",
              "      <td>Get Shorty (1995)</td>\n",
              "      <td>Copycat (1995)</td>\n",
              "    </tr>\n",
              "    <tr>\n",
              "      <th>release_date</th>\n",
              "      <td>01-Jan-1995</td>\n",
              "      <td>01-Jan-1995</td>\n",
              "      <td>01-Jan-1995</td>\n",
              "      <td>01-Jan-1995</td>\n",
              "      <td>01-Jan-1995</td>\n",
              "    </tr>\n",
              "    <tr>\n",
              "      <th>imdb_url</th>\n",
              "      <td>http://us.imdb.com/M/title-exact?Toy%20Story%2...</td>\n",
              "      <td>http://us.imdb.com/M/title-exact?GoldenEye%20(...</td>\n",
              "      <td>http://us.imdb.com/M/title-exact?Four%20Rooms%...</td>\n",
              "      <td>http://us.imdb.com/M/title-exact?Get%20Shorty%...</td>\n",
              "      <td>http://us.imdb.com/M/title-exact?Copycat%20(1995)</td>\n",
              "    </tr>\n",
              "    <tr>\n",
              "      <th>unknown</th>\n",
              "      <td>0</td>\n",
              "      <td>0</td>\n",
              "      <td>0</td>\n",
              "      <td>0</td>\n",
              "      <td>0</td>\n",
              "    </tr>\n",
              "    <tr>\n",
              "      <th>action</th>\n",
              "      <td>0</td>\n",
              "      <td>1</td>\n",
              "      <td>0</td>\n",
              "      <td>1</td>\n",
              "      <td>0</td>\n",
              "    </tr>\n",
              "    <tr>\n",
              "      <th>adventure</th>\n",
              "      <td>0</td>\n",
              "      <td>1</td>\n",
              "      <td>0</td>\n",
              "      <td>0</td>\n",
              "      <td>0</td>\n",
              "    </tr>\n",
              "    <tr>\n",
              "      <th>animation</th>\n",
              "      <td>1</td>\n",
              "      <td>0</td>\n",
              "      <td>0</td>\n",
              "      <td>0</td>\n",
              "      <td>0</td>\n",
              "    </tr>\n",
              "    <tr>\n",
              "      <th>children</th>\n",
              "      <td>1</td>\n",
              "      <td>0</td>\n",
              "      <td>0</td>\n",
              "      <td>0</td>\n",
              "      <td>0</td>\n",
              "    </tr>\n",
              "    <tr>\n",
              "      <th>comedy</th>\n",
              "      <td>1</td>\n",
              "      <td>0</td>\n",
              "      <td>0</td>\n",
              "      <td>1</td>\n",
              "      <td>0</td>\n",
              "    </tr>\n",
              "    <tr>\n",
              "      <th>crime</th>\n",
              "      <td>0</td>\n",
              "      <td>0</td>\n",
              "      <td>0</td>\n",
              "      <td>0</td>\n",
              "      <td>1</td>\n",
              "    </tr>\n",
              "    <tr>\n",
              "      <th>documentary</th>\n",
              "      <td>0</td>\n",
              "      <td>0</td>\n",
              "      <td>0</td>\n",
              "      <td>0</td>\n",
              "      <td>0</td>\n",
              "    </tr>\n",
              "    <tr>\n",
              "      <th>drama</th>\n",
              "      <td>0</td>\n",
              "      <td>0</td>\n",
              "      <td>0</td>\n",
              "      <td>1</td>\n",
              "      <td>1</td>\n",
              "    </tr>\n",
              "    <tr>\n",
              "      <th>fantasy</th>\n",
              "      <td>0</td>\n",
              "      <td>0</td>\n",
              "      <td>0</td>\n",
              "      <td>0</td>\n",
              "      <td>0</td>\n",
              "    </tr>\n",
              "    <tr>\n",
              "      <th>film-noir</th>\n",
              "      <td>0</td>\n",
              "      <td>0</td>\n",
              "      <td>0</td>\n",
              "      <td>0</td>\n",
              "      <td>0</td>\n",
              "    </tr>\n",
              "    <tr>\n",
              "      <th>horror</th>\n",
              "      <td>0</td>\n",
              "      <td>0</td>\n",
              "      <td>0</td>\n",
              "      <td>0</td>\n",
              "      <td>0</td>\n",
              "    </tr>\n",
              "    <tr>\n",
              "      <th>musical</th>\n",
              "      <td>0</td>\n",
              "      <td>0</td>\n",
              "      <td>0</td>\n",
              "      <td>0</td>\n",
              "      <td>0</td>\n",
              "    </tr>\n",
              "    <tr>\n",
              "      <th>mystery</th>\n",
              "      <td>0</td>\n",
              "      <td>0</td>\n",
              "      <td>0</td>\n",
              "      <td>0</td>\n",
              "      <td>0</td>\n",
              "    </tr>\n",
              "    <tr>\n",
              "      <th>romance</th>\n",
              "      <td>0</td>\n",
              "      <td>0</td>\n",
              "      <td>0</td>\n",
              "      <td>0</td>\n",
              "      <td>0</td>\n",
              "    </tr>\n",
              "    <tr>\n",
              "      <th>sci-fi</th>\n",
              "      <td>0</td>\n",
              "      <td>0</td>\n",
              "      <td>0</td>\n",
              "      <td>0</td>\n",
              "      <td>0</td>\n",
              "    </tr>\n",
              "    <tr>\n",
              "      <th>thriller</th>\n",
              "      <td>0</td>\n",
              "      <td>1</td>\n",
              "      <td>1</td>\n",
              "      <td>0</td>\n",
              "      <td>1</td>\n",
              "    </tr>\n",
              "    <tr>\n",
              "      <th>war</th>\n",
              "      <td>0</td>\n",
              "      <td>0</td>\n",
              "      <td>0</td>\n",
              "      <td>0</td>\n",
              "      <td>0</td>\n",
              "    </tr>\n",
              "    <tr>\n",
              "      <th>western</th>\n",
              "      <td>0</td>\n",
              "      <td>0</td>\n",
              "      <td>0</td>\n",
              "      <td>0</td>\n",
              "      <td>0</td>\n",
              "    </tr>\n",
              "  </tbody>\n",
              "</table>\n",
              "</div>"
            ],
            "text/plain": [
              "                                                              0  \\\n",
              "movie_id                                                      1   \n",
              "movie_title                                    Toy Story (1995)   \n",
              "release_date                                        01-Jan-1995   \n",
              "imdb_url      http://us.imdb.com/M/title-exact?Toy%20Story%2...   \n",
              "unknown                                                       0   \n",
              "action                                                        0   \n",
              "adventure                                                     0   \n",
              "animation                                                     1   \n",
              "children                                                      1   \n",
              "comedy                                                        1   \n",
              "crime                                                         0   \n",
              "documentary                                                   0   \n",
              "drama                                                         0   \n",
              "fantasy                                                       0   \n",
              "film-noir                                                     0   \n",
              "horror                                                        0   \n",
              "musical                                                       0   \n",
              "mystery                                                       0   \n",
              "romance                                                       0   \n",
              "sci-fi                                                        0   \n",
              "thriller                                                      0   \n",
              "war                                                           0   \n",
              "western                                                       0   \n",
              "\n",
              "                                                              1  \\\n",
              "movie_id                                                      2   \n",
              "movie_title                                    GoldenEye (1995)   \n",
              "release_date                                        01-Jan-1995   \n",
              "imdb_url      http://us.imdb.com/M/title-exact?GoldenEye%20(...   \n",
              "unknown                                                       0   \n",
              "action                                                        1   \n",
              "adventure                                                     1   \n",
              "animation                                                     0   \n",
              "children                                                      0   \n",
              "comedy                                                        0   \n",
              "crime                                                         0   \n",
              "documentary                                                   0   \n",
              "drama                                                         0   \n",
              "fantasy                                                       0   \n",
              "film-noir                                                     0   \n",
              "horror                                                        0   \n",
              "musical                                                       0   \n",
              "mystery                                                       0   \n",
              "romance                                                       0   \n",
              "sci-fi                                                        0   \n",
              "thriller                                                      1   \n",
              "war                                                           0   \n",
              "western                                                       0   \n",
              "\n",
              "                                                              2  \\\n",
              "movie_id                                                      3   \n",
              "movie_title                                   Four Rooms (1995)   \n",
              "release_date                                        01-Jan-1995   \n",
              "imdb_url      http://us.imdb.com/M/title-exact?Four%20Rooms%...   \n",
              "unknown                                                       0   \n",
              "action                                                        0   \n",
              "adventure                                                     0   \n",
              "animation                                                     0   \n",
              "children                                                      0   \n",
              "comedy                                                        0   \n",
              "crime                                                         0   \n",
              "documentary                                                   0   \n",
              "drama                                                         0   \n",
              "fantasy                                                       0   \n",
              "film-noir                                                     0   \n",
              "horror                                                        0   \n",
              "musical                                                       0   \n",
              "mystery                                                       0   \n",
              "romance                                                       0   \n",
              "sci-fi                                                        0   \n",
              "thriller                                                      1   \n",
              "war                                                           0   \n",
              "western                                                       0   \n",
              "\n",
              "                                                              3  \\\n",
              "movie_id                                                      4   \n",
              "movie_title                                   Get Shorty (1995)   \n",
              "release_date                                        01-Jan-1995   \n",
              "imdb_url      http://us.imdb.com/M/title-exact?Get%20Shorty%...   \n",
              "unknown                                                       0   \n",
              "action                                                        1   \n",
              "adventure                                                     0   \n",
              "animation                                                     0   \n",
              "children                                                      0   \n",
              "comedy                                                        1   \n",
              "crime                                                         0   \n",
              "documentary                                                   0   \n",
              "drama                                                         1   \n",
              "fantasy                                                       0   \n",
              "film-noir                                                     0   \n",
              "horror                                                        0   \n",
              "musical                                                       0   \n",
              "mystery                                                       0   \n",
              "romance                                                       0   \n",
              "sci-fi                                                        0   \n",
              "thriller                                                      0   \n",
              "war                                                           0   \n",
              "western                                                       0   \n",
              "\n",
              "                                                              4  \n",
              "movie_id                                                      5  \n",
              "movie_title                                      Copycat (1995)  \n",
              "release_date                                        01-Jan-1995  \n",
              "imdb_url      http://us.imdb.com/M/title-exact?Copycat%20(1995)  \n",
              "unknown                                                       0  \n",
              "action                                                        0  \n",
              "adventure                                                     0  \n",
              "animation                                                     0  \n",
              "children                                                      0  \n",
              "comedy                                                        0  \n",
              "crime                                                         1  \n",
              "documentary                                                   0  \n",
              "drama                                                         1  \n",
              "fantasy                                                       0  \n",
              "film-noir                                                     0  \n",
              "horror                                                        0  \n",
              "musical                                                       0  \n",
              "mystery                                                       0  \n",
              "romance                                                       0  \n",
              "sci-fi                                                        0  \n",
              "thriller                                                      1  \n",
              "war                                                           0  \n",
              "western                                                       0  "
            ]
          },
          "metadata": {
            "tags": []
          },
          "execution_count": 82
        }
      ]
    },
    {
      "metadata": {
        "id": "S4wTfoG5DjT_",
        "colab_type": "text"
      },
      "cell_type": "markdown",
      "source": [
        "creating movie profile with '|' separated genres"
      ]
    },
    {
      "metadata": {
        "id": "O8gXycLJDjUB",
        "colab_type": "code",
        "outputId": "8335a281-3332-4c78-fc36-afa09fccd182",
        "colab": {
          "base_uri": "https://localhost:8080/",
          "height": 204
        }
      },
      "cell_type": "code",
      "source": [
        "movies_genres = movies_info.copy()\n",
        "named = []\n",
        "for i in range(0,len(movies_genres)):\n",
        "    genre = \"\"\n",
        "    for column in movies_genres.columns[5:]: \n",
        "        if (movies_genres.iloc[i][column] == 1):\n",
        "            genre = genre + column + '|'\n",
        "    genre = genre[:-1]\n",
        "    named.append(genre)\n",
        "movies_genres['genre_names'] = named\n",
        "movies_genres['genre_names'] = movies_genres['genre_names'].astype('str')\n",
        "movies_genres = movies_genres.drop(movies_genres.columns[list(range(4,23))], axis=1) \n",
        "movies_genres.head(5)"
      ],
      "execution_count": 83,
      "outputs": [
        {
          "output_type": "execute_result",
          "data": {
            "text/html": [
              "<div>\n",
              "<style scoped>\n",
              "    .dataframe tbody tr th:only-of-type {\n",
              "        vertical-align: middle;\n",
              "    }\n",
              "\n",
              "    .dataframe tbody tr th {\n",
              "        vertical-align: top;\n",
              "    }\n",
              "\n",
              "    .dataframe thead th {\n",
              "        text-align: right;\n",
              "    }\n",
              "</style>\n",
              "<table border=\"1\" class=\"dataframe\">\n",
              "  <thead>\n",
              "    <tr style=\"text-align: right;\">\n",
              "      <th></th>\n",
              "      <th>movie_id</th>\n",
              "      <th>movie_title</th>\n",
              "      <th>release_date</th>\n",
              "      <th>imdb_url</th>\n",
              "      <th>genre_names</th>\n",
              "    </tr>\n",
              "  </thead>\n",
              "  <tbody>\n",
              "    <tr>\n",
              "      <th>0</th>\n",
              "      <td>1</td>\n",
              "      <td>Toy Story (1995)</td>\n",
              "      <td>01-Jan-1995</td>\n",
              "      <td>http://us.imdb.com/M/title-exact?Toy%20Story%2...</td>\n",
              "      <td>animation|children|comedy</td>\n",
              "    </tr>\n",
              "    <tr>\n",
              "      <th>1</th>\n",
              "      <td>2</td>\n",
              "      <td>GoldenEye (1995)</td>\n",
              "      <td>01-Jan-1995</td>\n",
              "      <td>http://us.imdb.com/M/title-exact?GoldenEye%20(...</td>\n",
              "      <td>action|adventure|thriller</td>\n",
              "    </tr>\n",
              "    <tr>\n",
              "      <th>2</th>\n",
              "      <td>3</td>\n",
              "      <td>Four Rooms (1995)</td>\n",
              "      <td>01-Jan-1995</td>\n",
              "      <td>http://us.imdb.com/M/title-exact?Four%20Rooms%...</td>\n",
              "      <td>thriller</td>\n",
              "    </tr>\n",
              "    <tr>\n",
              "      <th>3</th>\n",
              "      <td>4</td>\n",
              "      <td>Get Shorty (1995)</td>\n",
              "      <td>01-Jan-1995</td>\n",
              "      <td>http://us.imdb.com/M/title-exact?Get%20Shorty%...</td>\n",
              "      <td>action|comedy|drama</td>\n",
              "    </tr>\n",
              "    <tr>\n",
              "      <th>4</th>\n",
              "      <td>5</td>\n",
              "      <td>Copycat (1995)</td>\n",
              "      <td>01-Jan-1995</td>\n",
              "      <td>http://us.imdb.com/M/title-exact?Copycat%20(1995)</td>\n",
              "      <td>crime|drama|thriller</td>\n",
              "    </tr>\n",
              "  </tbody>\n",
              "</table>\n",
              "</div>"
            ],
            "text/plain": [
              "   movie_id        movie_title release_date  \\\n",
              "0         1   Toy Story (1995)  01-Jan-1995   \n",
              "1         2   GoldenEye (1995)  01-Jan-1995   \n",
              "2         3  Four Rooms (1995)  01-Jan-1995   \n",
              "3         4  Get Shorty (1995)  01-Jan-1995   \n",
              "4         5     Copycat (1995)  01-Jan-1995   \n",
              "\n",
              "                                            imdb_url  \\\n",
              "0  http://us.imdb.com/M/title-exact?Toy%20Story%2...   \n",
              "1  http://us.imdb.com/M/title-exact?GoldenEye%20(...   \n",
              "2  http://us.imdb.com/M/title-exact?Four%20Rooms%...   \n",
              "3  http://us.imdb.com/M/title-exact?Get%20Shorty%...   \n",
              "4  http://us.imdb.com/M/title-exact?Copycat%20(1995)   \n",
              "\n",
              "                 genre_names  \n",
              "0  animation|children|comedy  \n",
              "1  action|adventure|thriller  \n",
              "2                   thriller  \n",
              "3        action|comedy|drama  \n",
              "4       crime|drama|thriller  "
            ]
          },
          "metadata": {
            "tags": []
          },
          "execution_count": 83
        }
      ]
    },
    {
      "metadata": {
        "id": "gG9jcpzxDjUJ",
        "colab_type": "text"
      },
      "cell_type": "markdown",
      "source": [
        "## Preparing Data"
      ]
    },
    {
      "metadata": {
        "id": "h3CIPi0DDjUM",
        "colab_type": "text"
      },
      "cell_type": "markdown",
      "source": [
        "We begin by reading csv files "
      ]
    },
    {
      "metadata": {
        "id": "gEpm78zsDjUO",
        "colab_type": "text"
      },
      "cell_type": "markdown",
      "source": [
        "### Getting users file"
      ]
    },
    {
      "metadata": {
        "id": "c9V9lccyDjUP",
        "colab_type": "code",
        "colab": {
          "base_uri": "https://localhost:8080/",
          "height": 1105
        },
        "outputId": "2db83428-37ce-47b1-c1e0-9334a2c503e1"
      },
      "cell_type": "code",
      "source": [
        "u_cols = ['user_id', 'age', 'sex', 'occupation', 'zip_code']\n",
        "users = pd.read_csv('./u.user', sep='|',\n",
        "                    names=u_cols,encoding='latin-1')\n",
        "print(users)"
      ],
      "execution_count": 84,
      "outputs": [
        {
          "output_type": "stream",
          "text": [
            "     user_id  age sex     occupation zip_code\n",
            "0          1   24   M     technician    85711\n",
            "1          2   53   F          other    94043\n",
            "2          3   23   M         writer    32067\n",
            "3          4   24   M     technician    43537\n",
            "4          5   33   F          other    15213\n",
            "5          6   42   M      executive    98101\n",
            "6          7   57   M  administrator    91344\n",
            "7          8   36   M  administrator    05201\n",
            "8          9   29   M        student    01002\n",
            "9         10   53   M         lawyer    90703\n",
            "10        11   39   F          other    30329\n",
            "11        12   28   F          other    06405\n",
            "12        13   47   M       educator    29206\n",
            "13        14   45   M      scientist    55106\n",
            "14        15   49   F       educator    97301\n",
            "15        16   21   M  entertainment    10309\n",
            "16        17   30   M     programmer    06355\n",
            "17        18   35   F          other    37212\n",
            "18        19   40   M      librarian    02138\n",
            "19        20   42   F      homemaker    95660\n",
            "20        21   26   M         writer    30068\n",
            "21        22   25   M         writer    40206\n",
            "22        23   30   F         artist    48197\n",
            "23        24   21   F         artist    94533\n",
            "24        25   39   M       engineer    55107\n",
            "25        26   49   M       engineer    21044\n",
            "26        27   40   F      librarian    30030\n",
            "27        28   32   M         writer    55369\n",
            "28        29   41   M     programmer    94043\n",
            "29        30    7   M        student    55436\n",
            "..       ...  ...  ..            ...      ...\n",
            "913      914   44   F          other    08105\n",
            "914      915   50   M  entertainment    60614\n",
            "915      916   27   M       engineer    N2L5N\n",
            "916      917   22   F        student    20006\n",
            "917      918   40   M      scientist    70116\n",
            "918      919   25   M          other    14216\n",
            "919      920   30   F         artist    90008\n",
            "920      921   20   F        student    98801\n",
            "921      922   29   F  administrator    21114\n",
            "922      923   21   M        student    E2E3R\n",
            "923      924   29   M          other    11753\n",
            "924      925   18   F       salesman    49036\n",
            "925      926   49   M  entertainment    01701\n",
            "926      927   23   M     programmer    55428\n",
            "927      928   21   M        student    55408\n",
            "928      929   44   M      scientist    53711\n",
            "929      930   28   F      scientist    07310\n",
            "930      931   60   M       educator    33556\n",
            "931      932   58   M       educator    06437\n",
            "932      933   28   M        student    48105\n",
            "933      934   61   M       engineer    22902\n",
            "934      935   42   M         doctor    66221\n",
            "935      936   24   M          other    32789\n",
            "936      937   48   M       educator    98072\n",
            "937      938   38   F     technician    55038\n",
            "938      939   26   F        student    33319\n",
            "939      940   32   M  administrator    02215\n",
            "940      941   20   M        student    97229\n",
            "941      942   48   F      librarian    78209\n",
            "942      943   22   M        student    77841\n",
            "\n",
            "[943 rows x 5 columns]\n"
          ],
          "name": "stdout"
        }
      ]
    },
    {
      "metadata": {
        "id": "X6QkyU3lDjUS",
        "colab_type": "code",
        "colab": {
          "base_uri": "https://localhost:8080/",
          "height": 221
        },
        "outputId": "44e1897c-3ad6-408f-c46b-0c6b0f45a6f6"
      },
      "cell_type": "code",
      "source": [
        "print(users.shape)\n",
        "users.head()"
      ],
      "execution_count": 85,
      "outputs": [
        {
          "output_type": "stream",
          "text": [
            "(943, 5)\n"
          ],
          "name": "stdout"
        },
        {
          "output_type": "execute_result",
          "data": {
            "text/html": [
              "<div>\n",
              "<style scoped>\n",
              "    .dataframe tbody tr th:only-of-type {\n",
              "        vertical-align: middle;\n",
              "    }\n",
              "\n",
              "    .dataframe tbody tr th {\n",
              "        vertical-align: top;\n",
              "    }\n",
              "\n",
              "    .dataframe thead th {\n",
              "        text-align: right;\n",
              "    }\n",
              "</style>\n",
              "<table border=\"1\" class=\"dataframe\">\n",
              "  <thead>\n",
              "    <tr style=\"text-align: right;\">\n",
              "      <th></th>\n",
              "      <th>user_id</th>\n",
              "      <th>age</th>\n",
              "      <th>sex</th>\n",
              "      <th>occupation</th>\n",
              "      <th>zip_code</th>\n",
              "    </tr>\n",
              "  </thead>\n",
              "  <tbody>\n",
              "    <tr>\n",
              "      <th>0</th>\n",
              "      <td>1</td>\n",
              "      <td>24</td>\n",
              "      <td>M</td>\n",
              "      <td>technician</td>\n",
              "      <td>85711</td>\n",
              "    </tr>\n",
              "    <tr>\n",
              "      <th>1</th>\n",
              "      <td>2</td>\n",
              "      <td>53</td>\n",
              "      <td>F</td>\n",
              "      <td>other</td>\n",
              "      <td>94043</td>\n",
              "    </tr>\n",
              "    <tr>\n",
              "      <th>2</th>\n",
              "      <td>3</td>\n",
              "      <td>23</td>\n",
              "      <td>M</td>\n",
              "      <td>writer</td>\n",
              "      <td>32067</td>\n",
              "    </tr>\n",
              "    <tr>\n",
              "      <th>3</th>\n",
              "      <td>4</td>\n",
              "      <td>24</td>\n",
              "      <td>M</td>\n",
              "      <td>technician</td>\n",
              "      <td>43537</td>\n",
              "    </tr>\n",
              "    <tr>\n",
              "      <th>4</th>\n",
              "      <td>5</td>\n",
              "      <td>33</td>\n",
              "      <td>F</td>\n",
              "      <td>other</td>\n",
              "      <td>15213</td>\n",
              "    </tr>\n",
              "  </tbody>\n",
              "</table>\n",
              "</div>"
            ],
            "text/plain": [
              "   user_id  age sex  occupation zip_code\n",
              "0        1   24   M  technician    85711\n",
              "1        2   53   F       other    94043\n",
              "2        3   23   M      writer    32067\n",
              "3        4   24   M  technician    43537\n",
              "4        5   33   F       other    15213"
            ]
          },
          "metadata": {
            "tags": []
          },
          "execution_count": 85
        }
      ]
    },
    {
      "metadata": {
        "id": "Ado6DKT6DjUV",
        "colab_type": "text"
      },
      "cell_type": "markdown",
      "source": [
        "### Getting ratings file:"
      ]
    },
    {
      "metadata": {
        "id": "n_eQNdzsDjUW",
        "colab_type": "code",
        "colab": {
          "base_uri": "https://localhost:8080/",
          "height": 1105
        },
        "outputId": "2e854209-6cd8-4ba3-d8b1-de89ca4c4770"
      },
      "cell_type": "code",
      "source": [
        "r_cols = ['user_id', 'movie_id', 'rating', 'unix_timestamp']\n",
        "ratings = pd.read_csv('./u.data',\n",
        "                      sep='\\t', names=r_cols,encoding='latin-1')\n",
        "print(ratings)"
      ],
      "execution_count": 86,
      "outputs": [
        {
          "output_type": "stream",
          "text": [
            "       user_id  movie_id  rating  unix_timestamp\n",
            "0          196       242       3       881250949\n",
            "1          186       302       3       891717742\n",
            "2           22       377       1       878887116\n",
            "3          244        51       2       880606923\n",
            "4          166       346       1       886397596\n",
            "5          298       474       4       884182806\n",
            "6          115       265       2       881171488\n",
            "7          253       465       5       891628467\n",
            "8          305       451       3       886324817\n",
            "9            6        86       3       883603013\n",
            "10          62       257       2       879372434\n",
            "11         286      1014       5       879781125\n",
            "12         200       222       5       876042340\n",
            "13         210        40       3       891035994\n",
            "14         224        29       3       888104457\n",
            "15         303       785       3       879485318\n",
            "16         122       387       5       879270459\n",
            "17         194       274       2       879539794\n",
            "18         291      1042       4       874834944\n",
            "19         234      1184       2       892079237\n",
            "20         119       392       4       886176814\n",
            "21         167       486       4       892738452\n",
            "22         299       144       4       877881320\n",
            "23         291       118       2       874833878\n",
            "24         308         1       4       887736532\n",
            "25          95       546       2       879196566\n",
            "26          38        95       5       892430094\n",
            "27         102       768       2       883748450\n",
            "28          63       277       4       875747401\n",
            "29         160       234       5       876861185\n",
            "...        ...       ...     ...             ...\n",
            "99970      449       120       1       879959573\n",
            "99971      661       762       2       876037121\n",
            "99972      721       874       3       877137447\n",
            "99973      821       151       4       874792889\n",
            "99974      764       596       3       876243046\n",
            "99975      537       443       3       886031752\n",
            "99976      618       628       2       891308019\n",
            "99977      487       291       3       883445079\n",
            "99978      113       975       5       875936424\n",
            "99979      943       391       2       888640291\n",
            "99980      864       685       4       888891900\n",
            "99981      750       323       3       879445877\n",
            "99982      279        64       1       875308510\n",
            "99983      646       750       3       888528902\n",
            "99984      654       370       2       887863914\n",
            "99985      617       582       4       883789294\n",
            "99986      913       690       3       880824288\n",
            "99987      660       229       2       891406212\n",
            "99988      421       498       4       892241344\n",
            "99989      495      1091       4       888637503\n",
            "99990      806       421       4       882388897\n",
            "99991      676       538       4       892685437\n",
            "99992      721       262       3       877137285\n",
            "99993      913       209       2       881367150\n",
            "99994      378        78       3       880056976\n",
            "99995      880       476       3       880175444\n",
            "99996      716       204       5       879795543\n",
            "99997      276      1090       1       874795795\n",
            "99998       13       225       2       882399156\n",
            "99999       12       203       3       879959583\n",
            "\n",
            "[100000 rows x 4 columns]\n"
          ],
          "name": "stdout"
        }
      ]
    },
    {
      "metadata": {
        "id": "RGlG50KGDjUa",
        "colab_type": "code",
        "colab": {
          "base_uri": "https://localhost:8080/",
          "height": 221
        },
        "outputId": "7364ff87-fb17-405e-adeb-a766272b9e95"
      },
      "cell_type": "code",
      "source": [
        "print(ratings.shape)\n",
        "ratings.head()"
      ],
      "execution_count": 87,
      "outputs": [
        {
          "output_type": "stream",
          "text": [
            "(100000, 4)\n"
          ],
          "name": "stdout"
        },
        {
          "output_type": "execute_result",
          "data": {
            "text/html": [
              "<div>\n",
              "<style scoped>\n",
              "    .dataframe tbody tr th:only-of-type {\n",
              "        vertical-align: middle;\n",
              "    }\n",
              "\n",
              "    .dataframe tbody tr th {\n",
              "        vertical-align: top;\n",
              "    }\n",
              "\n",
              "    .dataframe thead th {\n",
              "        text-align: right;\n",
              "    }\n",
              "</style>\n",
              "<table border=\"1\" class=\"dataframe\">\n",
              "  <thead>\n",
              "    <tr style=\"text-align: right;\">\n",
              "      <th></th>\n",
              "      <th>user_id</th>\n",
              "      <th>movie_id</th>\n",
              "      <th>rating</th>\n",
              "      <th>unix_timestamp</th>\n",
              "    </tr>\n",
              "  </thead>\n",
              "  <tbody>\n",
              "    <tr>\n",
              "      <th>0</th>\n",
              "      <td>196</td>\n",
              "      <td>242</td>\n",
              "      <td>3</td>\n",
              "      <td>881250949</td>\n",
              "    </tr>\n",
              "    <tr>\n",
              "      <th>1</th>\n",
              "      <td>186</td>\n",
              "      <td>302</td>\n",
              "      <td>3</td>\n",
              "      <td>891717742</td>\n",
              "    </tr>\n",
              "    <tr>\n",
              "      <th>2</th>\n",
              "      <td>22</td>\n",
              "      <td>377</td>\n",
              "      <td>1</td>\n",
              "      <td>878887116</td>\n",
              "    </tr>\n",
              "    <tr>\n",
              "      <th>3</th>\n",
              "      <td>244</td>\n",
              "      <td>51</td>\n",
              "      <td>2</td>\n",
              "      <td>880606923</td>\n",
              "    </tr>\n",
              "    <tr>\n",
              "      <th>4</th>\n",
              "      <td>166</td>\n",
              "      <td>346</td>\n",
              "      <td>1</td>\n",
              "      <td>886397596</td>\n",
              "    </tr>\n",
              "  </tbody>\n",
              "</table>\n",
              "</div>"
            ],
            "text/plain": [
              "   user_id  movie_id  rating  unix_timestamp\n",
              "0      196       242       3       881250949\n",
              "1      186       302       3       891717742\n",
              "2       22       377       1       878887116\n",
              "3      244        51       2       880606923\n",
              "4      166       346       1       886397596"
            ]
          },
          "metadata": {
            "tags": []
          },
          "execution_count": 87
        }
      ]
    },
    {
      "metadata": {
        "id": "2WmDWh18DjUd",
        "colab_type": "text"
      },
      "cell_type": "markdown",
      "source": [
        "### Getting items file:"
      ]
    },
    {
      "metadata": {
        "id": "EkhShJ69DjUf",
        "colab_type": "code",
        "colab": {
          "base_uri": "https://localhost:8080/",
          "height": 5389
        },
        "outputId": "cd1fd59d-81b8-4916-c2b2-a8f6260f65fd"
      },
      "cell_type": "code",
      "source": [
        "i_cols = ['movie id', 'movie title' ,'release date','video release date', 'IMDb URL', 'unknown', 'Action', 'Adventure',\n",
        "          'Animation','Children\\'s', 'Comedy', 'Crime', 'Documentary', 'Drama', 'Fantasy','Film-Noir', 'Horror', 'Musical',\n",
        "          'Mystery','Romance', 'Sci-Fi', 'Thriller', 'War', 'Western']\n",
        "items = pd.read_csv('./u.item', sep='|', names=i_cols,encoding='latin-1')\n",
        "print(items)"
      ],
      "execution_count": 88,
      "outputs": [
        {
          "output_type": "stream",
          "text": [
            "      movie id                                        movie title  \\\n",
            "0            1                                   Toy Story (1995)   \n",
            "1            2                                   GoldenEye (1995)   \n",
            "2            3                                  Four Rooms (1995)   \n",
            "3            4                                  Get Shorty (1995)   \n",
            "4            5                                     Copycat (1995)   \n",
            "5            6  Shanghai Triad (Yao a yao yao dao waipo qiao) ...   \n",
            "6            7                              Twelve Monkeys (1995)   \n",
            "7            8                                        Babe (1995)   \n",
            "8            9                            Dead Man Walking (1995)   \n",
            "9           10                                 Richard III (1995)   \n",
            "10          11                               Seven (Se7en) (1995)   \n",
            "11          12                         Usual Suspects, The (1995)   \n",
            "12          13                            Mighty Aphrodite (1995)   \n",
            "13          14                                 Postino, Il (1994)   \n",
            "14          15                          Mr. Holland's Opus (1995)   \n",
            "15          16                 French Twist (Gazon maudit) (1995)   \n",
            "16          17                         From Dusk Till Dawn (1996)   \n",
            "17          18                          White Balloon, The (1995)   \n",
            "18          19                              Antonia's Line (1995)   \n",
            "19          20                          Angels and Insects (1995)   \n",
            "20          21                      Muppet Treasure Island (1996)   \n",
            "21          22                                  Braveheart (1995)   \n",
            "22          23                                 Taxi Driver (1976)   \n",
            "23          24                         Rumble in the Bronx (1995)   \n",
            "24          25                               Birdcage, The (1996)   \n",
            "25          26                      Brothers McMullen, The (1995)   \n",
            "26          27                                    Bad Boys (1995)   \n",
            "27          28                                   Apollo 13 (1995)   \n",
            "28          29                              Batman Forever (1995)   \n",
            "29          30                               Belle de jour (1967)   \n",
            "...        ...                                                ...   \n",
            "1652      1653  Entertaining Angels: The Dorothy Day Story (1996)   \n",
            "1653      1654                       Chairman of the Board (1998)   \n",
            "1654      1655                                  Favor, The (1994)   \n",
            "1655      1656                                 Little City (1998)   \n",
            "1656      1657                                      Target (1995)   \n",
            "1657      1658                      Substance of Fire, The (1996)   \n",
            "1658      1659                    Getting Away With Murder (1996)   \n",
            "1659      1660                                 Small Faces (1995)   \n",
            "1660      1661                                New Age, The (1994)   \n",
            "1661      1662                                 Rough Magic (1995)   \n",
            "1662      1663                            Nothing Personal (1995)   \n",
            "1663      1664                     8 Heads in a Duffel Bag (1997)   \n",
            "1664      1665                           Brother's Kiss, A (1997)   \n",
            "1665      1666                                        Ripe (1996)   \n",
            "1666      1667                              Next Step, The (1995)   \n",
            "1667      1668                          Wedding Bell Blues (1996)   \n",
            "1668      1669                           MURDER and murder (1996)   \n",
            "1669      1670                                     Tainted (1998)   \n",
            "1670      1671                          Further Gesture, A (1996)   \n",
            "1671      1672                                        Kika (1993)   \n",
            "1672      1673                                      Mirage (1995)   \n",
            "1673      1674                                  Mamma Roma (1962)   \n",
            "1674      1675                              Sunchaser, The (1996)   \n",
            "1675      1676                            War at Home, The (1996)   \n",
            "1676      1677                               Sweet Nothing (1995)   \n",
            "1677      1678                                  Mat' i syn (1997)   \n",
            "1678      1679                                   B. Monkey (1998)   \n",
            "1679      1680                               Sliding Doors (1998)   \n",
            "1680      1681                                You So Crazy (1994)   \n",
            "1681      1682          Scream of Stone (Schrei aus Stein) (1991)   \n",
            "\n",
            "     release date  video release date  \\\n",
            "0     01-Jan-1995                 NaN   \n",
            "1     01-Jan-1995                 NaN   \n",
            "2     01-Jan-1995                 NaN   \n",
            "3     01-Jan-1995                 NaN   \n",
            "4     01-Jan-1995                 NaN   \n",
            "5     01-Jan-1995                 NaN   \n",
            "6     01-Jan-1995                 NaN   \n",
            "7     01-Jan-1995                 NaN   \n",
            "8     01-Jan-1995                 NaN   \n",
            "9     22-Jan-1996                 NaN   \n",
            "10    01-Jan-1995                 NaN   \n",
            "11    14-Aug-1995                 NaN   \n",
            "12    30-Oct-1995                 NaN   \n",
            "13    01-Jan-1994                 NaN   \n",
            "14    29-Jan-1996                 NaN   \n",
            "15    01-Jan-1995                 NaN   \n",
            "16    05-Feb-1996                 NaN   \n",
            "17    01-Jan-1995                 NaN   \n",
            "18    01-Jan-1995                 NaN   \n",
            "19    01-Jan-1995                 NaN   \n",
            "20    16-Feb-1996                 NaN   \n",
            "21    16-Feb-1996                 NaN   \n",
            "22    16-Feb-1996                 NaN   \n",
            "23    23-Feb-1996                 NaN   \n",
            "24    08-Mar-1996                 NaN   \n",
            "25    01-Jan-1995                 NaN   \n",
            "26    01-Jan-1995                 NaN   \n",
            "27    01-Jan-1995                 NaN   \n",
            "28    01-Jan-1995                 NaN   \n",
            "29    01-Jan-1967                 NaN   \n",
            "...           ...                 ...   \n",
            "1652  27-Sep-1996                 NaN   \n",
            "1653  01-Jan-1998                 NaN   \n",
            "1654  01-Jan-1994                 NaN   \n",
            "1655  20-Feb-1998                 NaN   \n",
            "1656  28-Feb-1996                 NaN   \n",
            "1657  06-Dec-1996                 NaN   \n",
            "1658  12-Apr-1996                 NaN   \n",
            "1659  09-Aug-1996                 NaN   \n",
            "1660  01-Jan-1994                 NaN   \n",
            "1661  30-May-1997                 NaN   \n",
            "1662  30-Apr-1997                 NaN   \n",
            "1663  18-Apr-1997                 NaN   \n",
            "1664  25-Apr-1997                 NaN   \n",
            "1665  02-May-1997                 NaN   \n",
            "1666  13-Jun-1997                 NaN   \n",
            "1667  13-Jun-1997                 NaN   \n",
            "1668  20-Jun-1997                 NaN   \n",
            "1669  01-Feb-1998                 NaN   \n",
            "1670  20-Feb-1998                 NaN   \n",
            "1671  01-Jan-1993                 NaN   \n",
            "1672  01-Jan-1995                 NaN   \n",
            "1673  01-Jan-1962                 NaN   \n",
            "1674  25-Oct-1996                 NaN   \n",
            "1675  01-Jan-1996                 NaN   \n",
            "1676  20-Sep-1996                 NaN   \n",
            "1677  06-Feb-1998                 NaN   \n",
            "1678  06-Feb-1998                 NaN   \n",
            "1679  01-Jan-1998                 NaN   \n",
            "1680  01-Jan-1994                 NaN   \n",
            "1681  08-Mar-1996                 NaN   \n",
            "\n",
            "                                               IMDb URL  unknown  Action  \\\n",
            "0     http://us.imdb.com/M/title-exact?Toy%20Story%2...        0       0   \n",
            "1     http://us.imdb.com/M/title-exact?GoldenEye%20(...        0       1   \n",
            "2     http://us.imdb.com/M/title-exact?Four%20Rooms%...        0       0   \n",
            "3     http://us.imdb.com/M/title-exact?Get%20Shorty%...        0       1   \n",
            "4     http://us.imdb.com/M/title-exact?Copycat%20(1995)        0       0   \n",
            "5     http://us.imdb.com/Title?Yao+a+yao+yao+dao+wai...        0       0   \n",
            "6     http://us.imdb.com/M/title-exact?Twelve%20Monk...        0       0   \n",
            "7        http://us.imdb.com/M/title-exact?Babe%20(1995)        0       0   \n",
            "8     http://us.imdb.com/M/title-exact?Dead%20Man%20...        0       0   \n",
            "9     http://us.imdb.com/M/title-exact?Richard%20III...        0       0   \n",
            "10      http://us.imdb.com/M/title-exact?Se7en%20(1995)        0       0   \n",
            "11    http://us.imdb.com/M/title-exact?Usual%20Suspe...        0       0   \n",
            "12    http://us.imdb.com/M/title-exact?Mighty%20Aphr...        0       0   \n",
            "13    http://us.imdb.com/M/title-exact?Postino,%20Il...        0       0   \n",
            "14    http://us.imdb.com/M/title-exact?Mr.%20Holland...        0       0   \n",
            "15    http://us.imdb.com/M/title-exact?Gazon%20maudi...        0       0   \n",
            "16    http://us.imdb.com/M/title-exact?From%20Dusk%2...        0       1   \n",
            "17    http://us.imdb.com/M/title-exact?Badkonake%20S...        0       0   \n",
            "18    http://us.imdb.com/M/title-exact?Antonia%20(1995)        0       0   \n",
            "19    http://us.imdb.com/M/title-exact?Angels%20and%...        0       0   \n",
            "20    http://us.imdb.com/M/title-exact?Muppet%20Trea...        0       1   \n",
            "21    http://us.imdb.com/M/title-exact?Braveheart%20...        0       1   \n",
            "22    http://us.imdb.com/M/title-exact?Taxi%20Driver...        0       0   \n",
            "23    http://us.imdb.com/M/title-exact?Hong%20Faan%2...        0       1   \n",
            "24    http://us.imdb.com/M/title-exact?Birdcage,%20T...        0       0   \n",
            "25    http://us.imdb.com/M/title-exact?Brothers%20Mc...        0       0   \n",
            "26    http://us.imdb.com/M/title-exact?Bad%20Boys%20...        0       1   \n",
            "27    http://us.imdb.com/M/title-exact?Apollo%2013%2...        0       1   \n",
            "28    http://us.imdb.com/M/title-exact?Batman%20Fore...        0       1   \n",
            "29    http://us.imdb.com/M/title-exact?Belle%20de%20...        0       0   \n",
            "...                                                 ...      ...     ...   \n",
            "1652  http://us.imdb.com/M/title-exact?Entertaining%...        0       0   \n",
            "1653  http://us.imdb.com/Title?Chairman+of+the+Board...        0       0   \n",
            "1654  http://us.imdb.com/M/title-exact?Favor,%20The%...        0       0   \n",
            "1655  http://us.imdb.com/M/title-exact?Little+City+(...        0       0   \n",
            "1656   http://us.imdb.com/M/title-exact?Target%20(1995)        0       1   \n",
            "1657  http://us.imdb.com/M/title-exact?Substance%20o...        0       0   \n",
            "1658  http://us.imdb.com/Title?Getting+Away+With+Mur...        0       0   \n",
            "1659  http://us.imdb.com/M/title-exact?Small%20Faces...        0       0   \n",
            "1660  http://us.imdb.com/M/title-exact?New%20Age,%20...        0       0   \n",
            "1661  http://us.imdb.com/M/title-exact?Rough%20Magic...        0       0   \n",
            "1662  http://us.imdb.com/M/title-exact?Nothing%20Per...        0       0   \n",
            "1663  http://us.imdb.com/Title?8+Heads+in+a+Duffel+B...        0       0   \n",
            "1664  http://us.imdb.com/M/title-exact?Brother%27s%2...        0       0   \n",
            "1665  http://us.imdb.com/M/title-exact?Ripe%20%28199...        0       0   \n",
            "1666  http://us.imdb.com/M/title-exact?Next%20Step%2...        0       0   \n",
            "1667  http://us.imdb.com/M/title-exact?Wedding%20Bel...        0       0   \n",
            "1668  http://us.imdb.com/M/title-exact?MURDER+and+mu...        0       0   \n",
            "1669    http://us.imdb.com/M/title-exact?Tainted+(1998)        0       0   \n",
            "1670  http://us.imdb.com/M/title-exact?Further+Gestu...        0       0   \n",
            "1671     http://us.imdb.com/M/title-exact?Kika%20(1993)        0       0   \n",
            "1672   http://us.imdb.com/M/title-exact?Mirage%20(1995)        0       1   \n",
            "1673  http://us.imdb.com/M/title-exact?Mamma%20Roma%...        0       0   \n",
            "1674  http://us.imdb.com/M/title-exact?Sunchaser,%20...        0       0   \n",
            "1675  http://us.imdb.com/M/title-exact?War%20at%20Ho...        0       0   \n",
            "1676  http://us.imdb.com/M/title-exact?Sweet%20Nothi...        0       0   \n",
            "1677  http://us.imdb.com/M/title-exact?Mat%27+i+syn+...        0       0   \n",
            "1678  http://us.imdb.com/M/title-exact?B%2E+Monkey+(...        0       0   \n",
            "1679      http://us.imdb.com/Title?Sliding+Doors+(1998)        0       0   \n",
            "1680  http://us.imdb.com/M/title-exact?You%20So%20Cr...        0       0   \n",
            "1681  http://us.imdb.com/M/title-exact?Schrei%20aus%...        0       0   \n",
            "\n",
            "      Adventure  Animation  Children's   ...     Fantasy  Film-Noir  Horror  \\\n",
            "0             0          1           1   ...           0          0       0   \n",
            "1             1          0           0   ...           0          0       0   \n",
            "2             0          0           0   ...           0          0       0   \n",
            "3             0          0           0   ...           0          0       0   \n",
            "4             0          0           0   ...           0          0       0   \n",
            "5             0          0           0   ...           0          0       0   \n",
            "6             0          0           0   ...           0          0       0   \n",
            "7             0          0           1   ...           0          0       0   \n",
            "8             0          0           0   ...           0          0       0   \n",
            "9             0          0           0   ...           0          0       0   \n",
            "10            0          0           0   ...           0          0       0   \n",
            "11            0          0           0   ...           0          0       0   \n",
            "12            0          0           0   ...           0          0       0   \n",
            "13            0          0           0   ...           0          0       0   \n",
            "14            0          0           0   ...           0          0       0   \n",
            "15            0          0           0   ...           0          0       0   \n",
            "16            0          0           0   ...           0          0       1   \n",
            "17            0          0           0   ...           0          0       0   \n",
            "18            0          0           0   ...           0          0       0   \n",
            "19            0          0           0   ...           0          0       0   \n",
            "20            1          0           0   ...           0          0       0   \n",
            "21            0          0           0   ...           0          0       0   \n",
            "22            0          0           0   ...           0          0       0   \n",
            "23            1          0           0   ...           0          0       0   \n",
            "24            0          0           0   ...           0          0       0   \n",
            "25            0          0           0   ...           0          0       0   \n",
            "26            0          0           0   ...           0          0       0   \n",
            "27            0          0           0   ...           0          0       0   \n",
            "28            1          0           0   ...           0          0       0   \n",
            "29            0          0           0   ...           0          0       0   \n",
            "...         ...        ...         ...   ...         ...        ...     ...   \n",
            "1652          0          0           0   ...           0          0       0   \n",
            "1653          0          0           0   ...           0          0       0   \n",
            "1654          0          0           0   ...           0          0       0   \n",
            "1655          0          0           0   ...           0          0       0   \n",
            "1656          0          0           0   ...           0          0       0   \n",
            "1657          0          0           0   ...           0          0       0   \n",
            "1658          0          0           0   ...           0          0       0   \n",
            "1659          0          0           0   ...           0          0       0   \n",
            "1660          0          0           0   ...           0          0       0   \n",
            "1661          0          0           0   ...           0          0       0   \n",
            "1662          0          0           0   ...           0          0       0   \n",
            "1663          0          0           0   ...           0          0       0   \n",
            "1664          0          0           0   ...           0          0       0   \n",
            "1665          0          0           0   ...           0          0       0   \n",
            "1666          0          0           0   ...           0          0       0   \n",
            "1667          0          0           0   ...           0          0       0   \n",
            "1668          0          0           0   ...           0          0       0   \n",
            "1669          0          0           0   ...           0          0       0   \n",
            "1670          0          0           0   ...           0          0       0   \n",
            "1671          0          0           0   ...           0          0       0   \n",
            "1672          0          0           0   ...           0          0       0   \n",
            "1673          0          0           0   ...           0          0       0   \n",
            "1674          0          0           0   ...           0          0       0   \n",
            "1675          0          0           0   ...           0          0       0   \n",
            "1676          0          0           0   ...           0          0       0   \n",
            "1677          0          0           0   ...           0          0       0   \n",
            "1678          0          0           0   ...           0          0       0   \n",
            "1679          0          0           0   ...           0          0       0   \n",
            "1680          0          0           0   ...           0          0       0   \n",
            "1681          0          0           0   ...           0          0       0   \n",
            "\n",
            "      Musical  Mystery  Romance  Sci-Fi  Thriller  War  Western  \n",
            "0           0        0        0       0         0    0        0  \n",
            "1           0        0        0       0         1    0        0  \n",
            "2           0        0        0       0         1    0        0  \n",
            "3           0        0        0       0         0    0        0  \n",
            "4           0        0        0       0         1    0        0  \n",
            "5           0        0        0       0         0    0        0  \n",
            "6           0        0        0       1         0    0        0  \n",
            "7           0        0        0       0         0    0        0  \n",
            "8           0        0        0       0         0    0        0  \n",
            "9           0        0        0       0         0    1        0  \n",
            "10          0        0        0       0         1    0        0  \n",
            "11          0        0        0       0         1    0        0  \n",
            "12          0        0        0       0         0    0        0  \n",
            "13          0        0        1       0         0    0        0  \n",
            "14          0        0        0       0         0    0        0  \n",
            "15          0        0        1       0         0    0        0  \n",
            "16          0        0        0       0         1    0        0  \n",
            "17          0        0        0       0         0    0        0  \n",
            "18          0        0        0       0         0    0        0  \n",
            "19          0        0        1       0         0    0        0  \n",
            "20          1        0        0       0         1    0        0  \n",
            "21          0        0        0       0         0    1        0  \n",
            "22          0        0        0       0         1    0        0  \n",
            "23          0        0        0       0         0    0        0  \n",
            "24          0        0        0       0         0    0        0  \n",
            "25          0        0        0       0         0    0        0  \n",
            "26          0        0        0       0         0    0        0  \n",
            "27          0        0        0       0         1    0        0  \n",
            "28          0        0        0       0         0    0        0  \n",
            "29          0        0        0       0         0    0        0  \n",
            "...       ...      ...      ...     ...       ...  ...      ...  \n",
            "1652        0        0        0       0         0    0        0  \n",
            "1653        0        0        0       0         0    0        0  \n",
            "1654        0        0        1       0         0    0        0  \n",
            "1655        0        0        1       0         0    0        0  \n",
            "1656        0        0        0       0         0    0        0  \n",
            "1657        0        0        0       0         0    0        0  \n",
            "1658        0        0        0       0         0    0        0  \n",
            "1659        0        0        0       0         0    0        0  \n",
            "1660        0        0        0       0         0    0        0  \n",
            "1661        0        0        1       0         0    0        0  \n",
            "1662        0        0        0       0         0    1        0  \n",
            "1663        0        0        0       0         0    0        0  \n",
            "1664        0        0        0       0         0    0        0  \n",
            "1665        0        0        0       0         0    0        0  \n",
            "1666        0        0        0       0         0    0        0  \n",
            "1667        0        0        0       0         0    0        0  \n",
            "1668        0        1        0       0         0    0        0  \n",
            "1669        0        0        0       0         1    0        0  \n",
            "1670        0        0        0       0         0    0        0  \n",
            "1671        0        0        0       0         0    0        0  \n",
            "1672        0        0        0       0         1    0        0  \n",
            "1673        0        0        0       0         0    0        0  \n",
            "1674        0        0        0       0         0    0        0  \n",
            "1675        0        0        0       0         0    0        0  \n",
            "1676        0        0        0       0         0    0        0  \n",
            "1677        0        0        0       0         0    0        0  \n",
            "1678        0        0        1       0         1    0        0  \n",
            "1679        0        0        1       0         0    0        0  \n",
            "1680        0        0        0       0         0    0        0  \n",
            "1681        0        0        0       0         0    0        0  \n",
            "\n",
            "[1682 rows x 24 columns]\n"
          ],
          "name": "stdout"
        }
      ]
    },
    {
      "metadata": {
        "id": "xbhY_J_tDjUj",
        "colab_type": "code",
        "colab": {
          "base_uri": "https://localhost:8080/",
          "height": 423
        },
        "outputId": "b3825611-3aea-49f5-b907-48f14a9444c0"
      },
      "cell_type": "code",
      "source": [
        "print(items.shape)\n",
        "items.head()"
      ],
      "execution_count": 89,
      "outputs": [
        {
          "output_type": "stream",
          "text": [
            "(1682, 24)\n"
          ],
          "name": "stdout"
        },
        {
          "output_type": "execute_result",
          "data": {
            "text/html": [
              "<div>\n",
              "<style scoped>\n",
              "    .dataframe tbody tr th:only-of-type {\n",
              "        vertical-align: middle;\n",
              "    }\n",
              "\n",
              "    .dataframe tbody tr th {\n",
              "        vertical-align: top;\n",
              "    }\n",
              "\n",
              "    .dataframe thead th {\n",
              "        text-align: right;\n",
              "    }\n",
              "</style>\n",
              "<table border=\"1\" class=\"dataframe\">\n",
              "  <thead>\n",
              "    <tr style=\"text-align: right;\">\n",
              "      <th></th>\n",
              "      <th>movie id</th>\n",
              "      <th>movie title</th>\n",
              "      <th>release date</th>\n",
              "      <th>video release date</th>\n",
              "      <th>IMDb URL</th>\n",
              "      <th>unknown</th>\n",
              "      <th>Action</th>\n",
              "      <th>Adventure</th>\n",
              "      <th>Animation</th>\n",
              "      <th>Children's</th>\n",
              "      <th>...</th>\n",
              "      <th>Fantasy</th>\n",
              "      <th>Film-Noir</th>\n",
              "      <th>Horror</th>\n",
              "      <th>Musical</th>\n",
              "      <th>Mystery</th>\n",
              "      <th>Romance</th>\n",
              "      <th>Sci-Fi</th>\n",
              "      <th>Thriller</th>\n",
              "      <th>War</th>\n",
              "      <th>Western</th>\n",
              "    </tr>\n",
              "  </thead>\n",
              "  <tbody>\n",
              "    <tr>\n",
              "      <th>0</th>\n",
              "      <td>1</td>\n",
              "      <td>Toy Story (1995)</td>\n",
              "      <td>01-Jan-1995</td>\n",
              "      <td>NaN</td>\n",
              "      <td>http://us.imdb.com/M/title-exact?Toy%20Story%2...</td>\n",
              "      <td>0</td>\n",
              "      <td>0</td>\n",
              "      <td>0</td>\n",
              "      <td>1</td>\n",
              "      <td>1</td>\n",
              "      <td>...</td>\n",
              "      <td>0</td>\n",
              "      <td>0</td>\n",
              "      <td>0</td>\n",
              "      <td>0</td>\n",
              "      <td>0</td>\n",
              "      <td>0</td>\n",
              "      <td>0</td>\n",
              "      <td>0</td>\n",
              "      <td>0</td>\n",
              "      <td>0</td>\n",
              "    </tr>\n",
              "    <tr>\n",
              "      <th>1</th>\n",
              "      <td>2</td>\n",
              "      <td>GoldenEye (1995)</td>\n",
              "      <td>01-Jan-1995</td>\n",
              "      <td>NaN</td>\n",
              "      <td>http://us.imdb.com/M/title-exact?GoldenEye%20(...</td>\n",
              "      <td>0</td>\n",
              "      <td>1</td>\n",
              "      <td>1</td>\n",
              "      <td>0</td>\n",
              "      <td>0</td>\n",
              "      <td>...</td>\n",
              "      <td>0</td>\n",
              "      <td>0</td>\n",
              "      <td>0</td>\n",
              "      <td>0</td>\n",
              "      <td>0</td>\n",
              "      <td>0</td>\n",
              "      <td>0</td>\n",
              "      <td>1</td>\n",
              "      <td>0</td>\n",
              "      <td>0</td>\n",
              "    </tr>\n",
              "    <tr>\n",
              "      <th>2</th>\n",
              "      <td>3</td>\n",
              "      <td>Four Rooms (1995)</td>\n",
              "      <td>01-Jan-1995</td>\n",
              "      <td>NaN</td>\n",
              "      <td>http://us.imdb.com/M/title-exact?Four%20Rooms%...</td>\n",
              "      <td>0</td>\n",
              "      <td>0</td>\n",
              "      <td>0</td>\n",
              "      <td>0</td>\n",
              "      <td>0</td>\n",
              "      <td>...</td>\n",
              "      <td>0</td>\n",
              "      <td>0</td>\n",
              "      <td>0</td>\n",
              "      <td>0</td>\n",
              "      <td>0</td>\n",
              "      <td>0</td>\n",
              "      <td>0</td>\n",
              "      <td>1</td>\n",
              "      <td>0</td>\n",
              "      <td>0</td>\n",
              "    </tr>\n",
              "    <tr>\n",
              "      <th>3</th>\n",
              "      <td>4</td>\n",
              "      <td>Get Shorty (1995)</td>\n",
              "      <td>01-Jan-1995</td>\n",
              "      <td>NaN</td>\n",
              "      <td>http://us.imdb.com/M/title-exact?Get%20Shorty%...</td>\n",
              "      <td>0</td>\n",
              "      <td>1</td>\n",
              "      <td>0</td>\n",
              "      <td>0</td>\n",
              "      <td>0</td>\n",
              "      <td>...</td>\n",
              "      <td>0</td>\n",
              "      <td>0</td>\n",
              "      <td>0</td>\n",
              "      <td>0</td>\n",
              "      <td>0</td>\n",
              "      <td>0</td>\n",
              "      <td>0</td>\n",
              "      <td>0</td>\n",
              "      <td>0</td>\n",
              "      <td>0</td>\n",
              "    </tr>\n",
              "    <tr>\n",
              "      <th>4</th>\n",
              "      <td>5</td>\n",
              "      <td>Copycat (1995)</td>\n",
              "      <td>01-Jan-1995</td>\n",
              "      <td>NaN</td>\n",
              "      <td>http://us.imdb.com/M/title-exact?Copycat%20(1995)</td>\n",
              "      <td>0</td>\n",
              "      <td>0</td>\n",
              "      <td>0</td>\n",
              "      <td>0</td>\n",
              "      <td>0</td>\n",
              "      <td>...</td>\n",
              "      <td>0</td>\n",
              "      <td>0</td>\n",
              "      <td>0</td>\n",
              "      <td>0</td>\n",
              "      <td>0</td>\n",
              "      <td>0</td>\n",
              "      <td>0</td>\n",
              "      <td>1</td>\n",
              "      <td>0</td>\n",
              "      <td>0</td>\n",
              "    </tr>\n",
              "  </tbody>\n",
              "</table>\n",
              "<p>5 rows × 24 columns</p>\n",
              "</div>"
            ],
            "text/plain": [
              "   movie id        movie title release date  video release date  \\\n",
              "0         1   Toy Story (1995)  01-Jan-1995                 NaN   \n",
              "1         2   GoldenEye (1995)  01-Jan-1995                 NaN   \n",
              "2         3  Four Rooms (1995)  01-Jan-1995                 NaN   \n",
              "3         4  Get Shorty (1995)  01-Jan-1995                 NaN   \n",
              "4         5     Copycat (1995)  01-Jan-1995                 NaN   \n",
              "\n",
              "                                            IMDb URL  unknown  Action  \\\n",
              "0  http://us.imdb.com/M/title-exact?Toy%20Story%2...        0       0   \n",
              "1  http://us.imdb.com/M/title-exact?GoldenEye%20(...        0       1   \n",
              "2  http://us.imdb.com/M/title-exact?Four%20Rooms%...        0       0   \n",
              "3  http://us.imdb.com/M/title-exact?Get%20Shorty%...        0       1   \n",
              "4  http://us.imdb.com/M/title-exact?Copycat%20(1995)        0       0   \n",
              "\n",
              "   Adventure  Animation  Children's   ...     Fantasy  Film-Noir  Horror  \\\n",
              "0          0          1           1   ...           0          0       0   \n",
              "1          1          0           0   ...           0          0       0   \n",
              "2          0          0           0   ...           0          0       0   \n",
              "3          0          0           0   ...           0          0       0   \n",
              "4          0          0           0   ...           0          0       0   \n",
              "\n",
              "   Musical  Mystery  Romance  Sci-Fi  Thriller  War  Western  \n",
              "0        0        0        0       0         0    0        0  \n",
              "1        0        0        0       0         1    0        0  \n",
              "2        0        0        0       0         1    0        0  \n",
              "3        0        0        0       0         0    0        0  \n",
              "4        0        0        0       0         1    0        0  \n",
              "\n",
              "[5 rows x 24 columns]"
            ]
          },
          "metadata": {
            "tags": []
          },
          "execution_count": 89
        }
      ]
    },
    {
      "metadata": {
        "id": "GpVP737CDjUn",
        "colab_type": "text"
      },
      "cell_type": "markdown",
      "source": [
        "## Network Visualization"
      ]
    },
    {
      "metadata": {
        "id": "f3elDPBMDjUp",
        "colab_type": "code",
        "colab": {}
      },
      "cell_type": "code",
      "source": [
        "import matplotlib.pyplot as plt\n",
        "import codecs\n",
        "import networkx as nx\n",
        "%matplotlib inline"
      ],
      "execution_count": 0,
      "outputs": []
    },
    {
      "metadata": {
        "id": "UtAdRvZeDjUs",
        "colab_type": "code",
        "colab": {}
      },
      "cell_type": "code",
      "source": [
        "G = nx.from_pandas_edgelist(ratings,source = 'user_id', target = 'movie_id',create_using=nx.DiGraph())"
      ],
      "execution_count": 0,
      "outputs": []
    },
    {
      "metadata": {
        "id": "Ljkkdq-7DjUy",
        "colab_type": "code",
        "colab": {
          "base_uri": "https://localhost:8080/",
          "height": 279
        },
        "outputId": "7fe12365-e4cf-4369-f22f-70155b7e511f"
      },
      "cell_type": "code",
      "source": [
        "#Degree_centrality\n",
        "degCentrality=nx.degree_centrality(G)\n",
        "plt.hist(list(degCentrality.values()))\n",
        "plt.xlabel('Degree_centrality')\n",
        "plt.ylabel('Number of Ratings')\n",
        "plt.show()"
      ],
      "execution_count": 92,
      "outputs": [
        {
          "output_type": "display_data",
          "data": {
            "image/png": "[encoded data removed]",
            "text/plain": [
              "<Figure size 432x288 with 1 Axes>"
            ]
          },
          "metadata": {
            "tags": []
          }
        }
      ]
    },
    {
      "metadata": {
        "id": "G0Qf5s38DjU8",
        "colab_type": "code",
        "colab": {
          "base_uri": "https://localhost:8080/",
          "height": 279
        },
        "outputId": "d9e461ca-209b-4c83-ab8f-67935b3311c4"
      },
      "cell_type": "code",
      "source": [
        "#Betweenness_centrality\n",
        "bet_cen = nx.betweenness_centrality(G)\n",
        "plt.hist(list(bet_cen.values()))\n",
        "plt.xlabel('Betweenness_centrality')\n",
        "plt.ylabel('Number of Ratings')\n",
        "plt.show()"
      ],
      "execution_count": 93,
      "outputs": [
        {
          "output_type": "display_data",
          "data": {
            "image/png": "[encoded data removed]",
            "text/plain": [
              "<Figure size 432x288 with 1 Axes>"
            ]
          },
          "metadata": {
            "tags": []
          }
        }
      ]
    },
    {
      "metadata": {
        "id": "30-0N2XeDjVC",
        "colab_type": "code",
        "colab": {
          "base_uri": "https://localhost:8080/",
          "height": 279
        },
        "outputId": "8cc57221-413e-4a45-8434-4e8fa0bdd10c"
      },
      "cell_type": "code",
      "source": [
        "#Closeness_centrality\n",
        "closeCentrality= nx.closeness_centrality(G)\n",
        "plt.hist(list(closeCentrality.values()))\n",
        "plt.xlabel('Closeness_centrality')\n",
        "plt.ylabel('Number of Ratings')\n",
        "plt.show()"
      ],
      "execution_count": 94,
      "outputs": [
        {
          "output_type": "display_data",
          "data": {
            "image/png": "[encoded data removed]",
            "text/plain": [
              "<Figure size 432x288 with 1 Axes>"
            ]
          },
          "metadata": {
            "tags": []
          }
        }
      ]
    },
    {
      "metadata": {
        "id": "dzTDVUHsDjVH",
        "colab_type": "code",
        "colab": {
          "base_uri": "https://localhost:8080/",
          "height": 279
        },
        "outputId": "c5bf6b26-cfa9-4f69-c193-6708cc7b1d6f"
      },
      "cell_type": "code",
      "source": [
        "#Eigenvector_centrality\n",
        "eigenvector_centrality=nx.eigenvector_centrality(G)\n",
        "plt.hist(list(eigenvector_centrality.values()))\n",
        "plt.xlabel('Eigenvector_centrality')\n",
        "plt.ylabel('Number of Ratings')\n",
        "plt.show()"
      ],
      "execution_count": 95,
      "outputs": [
        {
          "output_type": "display_data",
          "data": {
            "image/png": "[encoded data removed]",
            "text/plain": [
              "<Figure size 432x288 with 1 Axes>"
            ]
          },
          "metadata": {
            "tags": []
          }
        }
      ]
    },
    {
      "metadata": {
        "id": "HiplJGSeDjVL",
        "colab_type": "code",
        "colab": {
          "base_uri": "https://localhost:8080/",
          "height": 85
        },
        "outputId": "bdd91131-d284-477c-f127-3b22538a4588"
      },
      "cell_type": "code",
      "source": [
        "pos = nx.spring_layout(G)\n",
        "betCent = nx.betweenness_centrality(G, normalized=True, endpoints=True)\n",
        "node_color = [100.0 * G.degree(v) for v in G]\n",
        "node_size =  [v * 100 for v in betCent.values()]\n",
        "plt.figure(figsize=(150,150))\n",
        "nx.draw_networkx(G, pos=pos, with_labels=True,\n",
        "                 node_color=node_color,\n",
        "                 node_size=node_size )\n",
        "plt.axis('off')"
      ],
      "execution_count": 96,
      "outputs": [
        {
          "output_type": "execute_result",
          "data": {
            "text/plain": [
              "(-1.209482523202896,\n",
              " 1.2045541727542877,\n",
              " -1.2028518828749657,\n",
              " 1.206670216023922)"
            ]
          },
          "metadata": {
            "tags": []
          },
          "execution_count": 96
        }
      ]
    },
    {
      "metadata": {
        "id": "fx2Z7RrPDjVR",
        "colab_type": "text"
      },
      "cell_type": "markdown",
      "source": [
        "## Prediction"
      ]
    },
    {
      "metadata": {
        "id": "zWDRnJHmDjVS",
        "colab_type": "code",
        "colab": {}
      },
      "cell_type": "code",
      "source": [
        "\n",
        "from surprise.model_selection import cross_validate, KFold\n",
        "from surprise import Reader, Dataset, SVD, evaluate, accuracy\n",
        "from sklearn import datasets, linear_model,tree\n",
        "from sklearn.datasets import make_regression\n",
        "from sklearn.model_selection import train_test_split, cross_val_score, cross_val_predict\n"
      ],
      "execution_count": 0,
      "outputs": []
    },
    {
      "metadata": {
        "id": "kaUFnl2yDjVU",
        "colab_type": "text"
      },
      "cell_type": "markdown",
      "source": [
        "####  Collaborative Filtering (CF)"
      ]
    },
    {
      "metadata": {
        "id": "0t2Ke6WZDjVV",
        "colab_type": "text"
      },
      "cell_type": "markdown",
      "source": [
        "We see that the predictions are not so accurate since some genres differ by a lot. Hence, such a text mining approach would have been more useful, if we were given more details about the movies such as movie synopsis, cast, crew etc. This model doesn't give user-specific recommendations. Hence, to overcome this limitation arising due to limited descriptive data available in the MovieLens dataset, we compute user1's preference based on another similar user2's preference on the movies that the latter has reviewed but the former hasn't. This approach is called Collaborative Filtering (CF). We use Surprise library to implement CF."
      ]
    },
    {
      "metadata": {
        "id": "QsplLuf6DjVW",
        "colab_type": "code",
        "colab": {
          "base_uri": "https://localhost:8080/",
          "height": 231
        },
        "outputId": "711c5b9f-d6e1-4fa6-f827-701c207fb3eb"
      },
      "cell_type": "code",
      "source": [
        "from surprise.model_selection import KFold\n",
        "# splitting data into 10-folds and performing SVD\n",
        "Data = Dataset.load_from_df(user_movie_info[['user_id', 'movie_id', 'rating']], Reader())\n",
        "#dividing the data into k-folds, here k=10\n",
        "kf = KFold(n_splits=10)\n",
        "#using SVD\n",
        "algo = SVD()"
      ],
      "execution_count": 100,
      "outputs": [
        {
          "output_type": "error",
          "ename": "NameError",
          "evalue": "ignored",
          "traceback": [
            "\u001b[0;31m---------------------------------------------------------------------------\u001b[0m",
            "\u001b[0;31mNameError\u001b[0m                                 Traceback (most recent call last)",
            "\u001b[0;32m<ipython-input-100-f584fe57ed18>\u001b[0m in \u001b[0;36m<module>\u001b[0;34m()\u001b[0m\n\u001b[1;32m      1\u001b[0m \u001b[0;32mfrom\u001b[0m \u001b[0msurprise\u001b[0m\u001b[0;34m.\u001b[0m\u001b[0mmodel_selection\u001b[0m \u001b[0;32mimport\u001b[0m \u001b[0mKFold\u001b[0m\u001b[0;34m\u001b[0m\u001b[0;34m\u001b[0m\u001b[0m\n\u001b[1;32m      2\u001b[0m \u001b[0;31m# splitting data into 10-folds and performing SVD\u001b[0m\u001b[0;34m\u001b[0m\u001b[0;34m\u001b[0m\u001b[0;34m\u001b[0m\u001b[0m\n\u001b[0;32m----> 3\u001b[0;31m \u001b[0mData\u001b[0m \u001b[0;34m=\u001b[0m \u001b[0mDataset\u001b[0m\u001b[0;34m.\u001b[0m\u001b[0mload_from_df\u001b[0m\u001b[0;34m(\u001b[0m\u001b[0muser_movie_info\u001b[0m\u001b[0;34m[\u001b[0m\u001b[0;34m[\u001b[0m\u001b[0;34m'user_id'\u001b[0m\u001b[0;34m,\u001b[0m \u001b[0;34m'movie_id'\u001b[0m\u001b[0;34m,\u001b[0m \u001b[0;34m'rating'\u001b[0m\u001b[0;34m]\u001b[0m\u001b[0;34m]\u001b[0m\u001b[0;34m,\u001b[0m \u001b[0mReader\u001b[0m\u001b[0;34m(\u001b[0m\u001b[0;34m)\u001b[0m\u001b[0;34m)\u001b[0m\u001b[0;34m\u001b[0m\u001b[0;34m\u001b[0m\u001b[0m\n\u001b[0m\u001b[1;32m      4\u001b[0m \u001b[0;31m#dividing the data into k-folds, here k=10\u001b[0m\u001b[0;34m\u001b[0m\u001b[0;34m\u001b[0m\u001b[0;34m\u001b[0m\u001b[0m\n\u001b[1;32m      5\u001b[0m \u001b[0mkf\u001b[0m \u001b[0;34m=\u001b[0m \u001b[0mKFold\u001b[0m\u001b[0;34m(\u001b[0m\u001b[0mn_splits\u001b[0m\u001b[0;34m=\u001b[0m\u001b[0;36m10\u001b[0m\u001b[0;34m)\u001b[0m\u001b[0;34m\u001b[0m\u001b[0;34m\u001b[0m\u001b[0m\n",
            "\u001b[0;31mNameError\u001b[0m: name 'user_movie_info' is not defined"
          ]
        }
      ]
    },
    {
      "metadata": {
        "id": "-g7aB_qWDjVa",
        "colab_type": "text"
      },
      "cell_type": "markdown",
      "source": [
        "Performing training, testing and calculating RMSE"
      ]
    },
    {
      "metadata": {
        "id": "cgr0P8fIDjVb",
        "colab_type": "code",
        "colab": {}
      },
      "cell_type": "code",
      "source": [
        "for trainset, testset in kf.split(data):\n",
        "    algo.fit(trainset)\n",
        "    predictions = algo.test(testset)\n",
        "    accuracy.rmse(predictions, verbose=True)"
      ],
      "execution_count": 0,
      "outputs": []
    },
    {
      "metadata": {
        "id": "wrRLQjKzDjVe",
        "colab_type": "text"
      },
      "cell_type": "markdown",
      "source": [
        "checking the effectiveness of our approach by getting movie recommendations using CF - predicting the rating for user_id = 10 and movie_id = 336"
      ]
    },
    {
      "metadata": {
        "id": "6G2fT3w5DjVf",
        "colab_type": "code",
        "colab": {}
      },
      "cell_type": "code",
      "source": [
        "trainset = data.build_full_trainset()\n",
        "algo.fit(trainset)\n",
        "algo.predict(10, 336, 3)"
      ],
      "execution_count": 0,
      "outputs": []
    },
    {
      "metadata": {
        "id": "g1cGgu0XDjVl",
        "colab_type": "text"
      },
      "cell_type": "markdown",
      "source": [
        "### Linear Regression"
      ]
    },
    {
      "metadata": {
        "id": "nXHlV0AUDjVm",
        "colab_type": "text"
      },
      "cell_type": "markdown",
      "source": [
        "training the model"
      ]
    },
    {
      "metadata": {
        "id": "KNGZ9m_mDjVo",
        "colab_type": "code",
        "colab": {}
      },
      "cell_type": "code",
      "source": [
        "regression1 = linear_model.LinearRegression()\n",
        "model_regression1 = regression1.fit(X_train, y_train)"
      ],
      "execution_count": 0,
      "outputs": []
    },
    {
      "metadata": {
        "id": "nFw3AbmdDjVs",
        "colab_type": "text"
      },
      "cell_type": "markdown",
      "source": [
        "Getting the ratings for some example movies"
      ]
    },
    {
      "metadata": {
        "id": "aZNTVxnzDjVu",
        "colab_type": "code",
        "colab": {}
      },
      "cell_type": "code",
      "source": [
        "for i in range(1, len(final)):\n",
        "    movie = final.iloc[i, 0]\n",
        "    if(movie == 'Little Buddha (1993)'):\n",
        "        mov1_feature = final.iloc[i,1:50]\n",
        "    if(movie == 'Little Big League (1994)'):\n",
        "        mov2_feature = final.iloc[i,1:50]\n",
        "    if (movie == 'Metro (1997)'):\n",
        "        mov3_feature = final.iloc[i, 1:50]\n",
        "print(\"prediction for Little Buddha (1993)\")\n",
        "print(regression1.predict([mov1_feature]))\n",
        "print(\"prediction for Little Big League (1994)\")\n",
        "print(regression1.predict([mov2_feature]))\n",
        "print(\"prediction for Metro (1997)\")\n",
        "print(regression1.predict([mov3_feature]))\n",
        "print(\"\\n\")"
      ],
      "execution_count": 0,
      "outputs": []
    },
    {
      "metadata": {
        "id": "LIji1M2mDjVy",
        "colab_type": "text"
      },
      "cell_type": "markdown",
      "source": [
        "plotting true values v/s predictions of linear regression (top 100 values)"
      ]
    },
    {
      "metadata": {
        "id": "3tdWBYk_DjV0",
        "colab_type": "code",
        "colab": {}
      },
      "cell_type": "code",
      "source": [
        "predictions = regression1.predict(X_test)\n",
        "plt.scatter(y_test[0:100], predictions[0:100])\n",
        "plt.xlabel('True Values')\n",
        "plt.ylabel('Predictions')\n",
        "plt.title('Linear Regression Model')"
      ],
      "execution_count": 0,
      "outputs": []
    },
    {
      "metadata": {
        "id": "5SctpuS9DjWJ",
        "colab_type": "code",
        "colab": {}
      },
      "cell_type": "code",
      "source": [
        "regression1_scores = cross_val_score(model_regression1, X_train, y_train, cv = 10)\n",
        "print(\"cross validation scores: \\n\",regression1_scores)\n",
        "print(\"testing score: {}\".format(model_regression1.score(X_test, y_test)))\n",
        "print(\"\\n\")"
      ],
      "execution_count": 0,
      "outputs": []
    },
    {
      "metadata": {
        "id": "ikFJugq0DjWM",
        "colab_type": "text"
      },
      "cell_type": "markdown",
      "source": [
        "### Decision Tree"
      ]
    },
    {
      "metadata": {
        "id": "qoQZtXU9DjWN",
        "colab_type": "text"
      },
      "cell_type": "markdown",
      "source": [
        "Training the model"
      ]
    },
    {
      "metadata": {
        "id": "qs9qC_rCDjWP",
        "colab_type": "code",
        "colab": {}
      },
      "cell_type": "code",
      "source": [
        "dtree = tree.DecisionTreeRegressor()\n",
        "model_dt = dtree.fit(X_train, y_train)"
      ],
      "execution_count": 0,
      "outputs": []
    },
    {
      "metadata": {
        "id": "2pYOmmjbDjWW",
        "colab_type": "text"
      },
      "cell_type": "markdown",
      "source": [
        "Getting the ratings for some example movies"
      ]
    },
    {
      "metadata": {
        "id": "zUTHSLweDjWX",
        "colab_type": "code",
        "colab": {}
      },
      "cell_type": "code",
      "source": [
        "for i in range(1, len(final)):\n",
        "    movie = final.iloc[i, 0]\n",
        "    if(movie == 'Little Buddha (1993)'):\n",
        "        mov1_feature = final.iloc[i,1:50]\n",
        "    if(movie == 'Little Big League (1994)'):\n",
        "        mov2_feature = final.iloc[i,1:50]\n",
        "    if (movie == 'Metro (1997)'):\n",
        "        mov3_feature = final.iloc[i, 1:50]\n",
        "print(\"prediction for Little Buddha (1993)\")\n",
        "print(dtree.predict([mov1_feature]))\n",
        "print(\"prediction for Little Big League (1994)\")\n",
        "print(dtree.predict([mov2_feature]))\n",
        "print(\"prediction for Metro (1997)\")\n",
        "print(dtree.predict([mov3_feature]))\n",
        "print(\"\\n\")"
      ],
      "execution_count": 0,
      "outputs": []
    },
    {
      "metadata": {
        "id": "albLCAywDjWb",
        "colab_type": "text"
      },
      "cell_type": "markdown",
      "source": [
        "Performing 10-fold CV and checking the effectiveness of the model on test data"
      ]
    },
    {
      "metadata": {
        "id": "tZAwI6A8DjWc",
        "colab_type": "code",
        "colab": {}
      },
      "cell_type": "code",
      "source": [
        "dt_scores = cross_val_score(model_dt, X_train, y_train, cv = 10)\n",
        "print(\"cross validation scores: \\n\",dt_scores)\n",
        "print(\"testing score: {}\".format(model_dt.score(X_test, y_test)))\n",
        "print(\"\\n\")"
      ],
      "execution_count": 0,
      "outputs": []
    },
    {
      "metadata": {
        "id": "R18dC3QZDjWg",
        "colab_type": "text"
      },
      "cell_type": "markdown",
      "source": [
        "We observe that the collaborative filtering is based only on how similar users have rated the movie so it doesn't use all the attributes of each review for a movie\n",
        "The linear regression is performing match words than decision tree model due to inherent non linearity of the dataset also the decision tree model has higher cross Validation scores and gives accurate prediction for the ratings of the three movies taken "
      ]
    },
    {
      "metadata": {
        "id": "iiNzFy7ADjWj",
        "colab_type": "text"
      },
      "cell_type": "markdown",
      "source": [
        "### 6 . Conclusion"
      ]
    },
    {
      "metadata": {
        "id": "CsLqWa1gDjWk",
        "colab_type": "code",
        "colab": {}
      },
      "cell_type": "code",
      "source": [
        ""
      ],
      "execution_count": 0,
      "outputs": []
    }
  ]
}